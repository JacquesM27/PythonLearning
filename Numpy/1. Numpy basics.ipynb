{
 "cells": [
  {
   "metadata": {},
   "cell_type": "markdown",
   "source": [
    "# NumPy\n",
    "NumPy is a fundamental library in Python for numerical computations. It provides support for arrays, matrices, and many mathematical functions. NumPy arrays are more efficient than Python lists for numerical operations, as they allow for vectorized operations, which are faster due to the lower overhead.\n",
    "\n",
    "## NumPy Arrays\n",
    "Arrays are the core structure in NumPy. Unlike Python lists, all elements in a NumPy array must have the same data type. This makes operations on NumPy arrays much faster and more memory-efficient compared to Python lists.\n"
   ],
   "id": "ed1f6733e08f8810"
  },
  {
   "cell_type": "code",
   "id": "initial_id",
   "metadata": {
    "collapsed": true,
    "ExecuteTime": {
     "end_time": "2024-10-23T19:43:48.742094Z",
     "start_time": "2024-10-23T19:43:48.658765Z"
    }
   },
   "source": [
    "import numpy as np\n",
    "\n",
    "# Creating a NumPy array from a Python list\n",
    "my_list = [1, 2, 3, 4, 5]\n",
    "array = np.array(my_list)\n",
    "\n",
    "print(\"NumPy Array:\", array)\n"
   ],
   "outputs": [
    {
     "name": "stdout",
     "output_type": "stream",
     "text": [
      "NumPy Array: [1 2 3 4 5]\n"
     ]
    }
   ],
   "execution_count": 1
  },
  {
   "metadata": {},
   "cell_type": "markdown",
   "source": "## Array creation",
   "id": "784bc9d9abfd427c"
  },
  {
   "metadata": {
    "ExecuteTime": {
     "end_time": "2024-10-23T19:44:37.705060Z",
     "start_time": "2024-10-23T19:44:37.700147Z"
    }
   },
   "cell_type": "code",
   "source": [
    "arr1 = np.array([1, 2, 3, 4])\n",
    "zeros_arr = np.zeros((3, 3))  # 3x3 matrix of zeros\n",
    "ones_arr = np.ones((2, 2))    # 2x2 matrix of ones\n",
    "full_arr = np.full((3, 3), 7) # 3x3 matrix filled with 7s\n",
    "\n",
    "print(\"Full Array:\", full_arr)"
   ],
   "id": "49c795ed61e4e2fd",
   "outputs": [
    {
     "name": "stdout",
     "output_type": "stream",
     "text": [
      "Full Array: [[7 7 7]\n",
      " [7 7 7]\n",
      " [7 7 7]]\n"
     ]
    }
   ],
   "execution_count": 2
  },
  {
   "metadata": {},
   "cell_type": "markdown",
   "source": [
    "## Array Attributes\n",
    "Once you have a NumPy array, you can examine its shape and other properties:"
   ],
   "id": "ae00b5fba4efc09d"
  },
  {
   "metadata": {
    "ExecuteTime": {
     "end_time": "2024-10-23T19:45:12.707271Z",
     "start_time": "2024-10-23T19:45:12.703412Z"
    }
   },
   "cell_type": "code",
   "source": [
    "# Shape and size\n",
    "arr = np.array([[1, 2, 3], [4, 5, 6]])\n",
    "print(\"Array shape:\", arr.shape)\n",
    "print(\"Array size:\", arr.size)"
   ],
   "id": "129fb31a6b5d6e52",
   "outputs": [
    {
     "name": "stdout",
     "output_type": "stream",
     "text": [
      "Array shape: (2, 3)\n",
      "Array size: 6\n"
     ]
    }
   ],
   "execution_count": 3
  },
  {
   "metadata": {},
   "cell_type": "markdown",
   "source": [
    "## Indexing and Slicing\n",
    "You can access elements and subarrays using indexing and slicing. NumPy supports similar slicing syntax as Python lists, but it can be extended to multiple dimensions."
   ],
   "id": "66eadc2478fc02ef"
  },
  {
   "metadata": {
    "ExecuteTime": {
     "end_time": "2024-10-23T19:52:43.238138Z",
     "start_time": "2024-10-23T19:52:43.232659Z"
    }
   },
   "cell_type": "code",
   "source": [
    "# 1D array slicing\n",
    "arr = np.array([10, 20, 30, 40, 50])\n",
    "print(arr[1:4])  # Output: [20 30 40]\n",
    "\n",
    "# 2D array slicing\n",
    "arr2d = np.array([[1, 2, 3], [4, 5, 6], [7, 8, 9]])\n",
    "# print(arr2d[0, 1])  # Output: 2 (row 0, column 1)\n",
    "\n",
    "# counting from 0 ofc\n",
    "# [select arrays, select items in arrays]\n",
    "# [start:stop (without stop), start:stop(without stop)]\n",
    "# print(arr2d[:2, 1:])  # Output: [[2, 3], [5, 6]]\n",
    "# print(arr2d[:, 1:])\n",
    "# print(arr2d[:, 1:])\n",
    "# print(arr2d[:, 1:3])\n",
    "# print(arr2d[:, 2:3])\n",
    "# print(arr2d[1:3, :])\n",
    "print(arr2d[1:3, :2])\n",
    "print(arr2d[1:3, 0:2])"
   ],
   "id": "ebc6cfb8c6a3f350",
   "outputs": [
    {
     "name": "stdout",
     "output_type": "stream",
     "text": [
      "[20 30 40]\n",
      "[[4 5]\n",
      " [7 8]]\n",
      "[[4 5]\n",
      " [7 8]]\n"
     ]
    }
   ],
   "execution_count": 37
  },
  {
   "metadata": {},
   "cell_type": "markdown",
   "source": [
    "## Reshaping Arrays\n",
    "You can change the shape of an array using the reshape method. The number of elements must remain constant."
   ],
   "id": "aa29e1a45d2334ae"
  },
  {
   "metadata": {
    "ExecuteTime": {
     "end_time": "2024-10-23T19:54:51.334635Z",
     "start_time": "2024-10-23T19:54:51.331521Z"
    }
   },
   "cell_type": "code",
   "source": [
    "arr = np.array([1, 2, 3, 4, 5, 6])\n",
    "# (num of arrays, length of array)\n",
    "reshaped_arr = arr.reshape((2, 3))\n",
    "# reshaped_arr = arr.reshape((3,2))\n",
    "# throws err\n",
    "# reshaped_arr = arr.reshape((3,3))\n",
    "# reshaped_arr = arr.reshape((6,1))\n",
    "print(reshaped_arr)"
   ],
   "id": "522f5d91d90bc9ff",
   "outputs": [
    {
     "name": "stdout",
     "output_type": "stream",
     "text": [
      "[[1 2 3]\n",
      " [4 5 6]]\n"
     ]
    }
   ],
   "execution_count": 45
  },
  {
   "metadata": {},
   "cell_type": "markdown",
   "source": [
    "## Concatenation and Splitting\n",
    "You can concatenate multiple arrays together using the concatenate method and split arrays using the split method."
   ],
   "id": "f117cbfb65566a47"
  },
  {
   "metadata": {
    "ExecuteTime": {
     "end_time": "2024-10-23T19:55:13.829196Z",
     "start_time": "2024-10-23T19:55:13.824315Z"
    }
   },
   "cell_type": "code",
   "source": [
    "arr1 = np.array([1, 2, 3])\n",
    "arr2 = np.array([4, 5, 6])\n",
    "concatenated = np.concatenate((arr1, arr2))\n",
    "print(\"Concatenated array:\", concatenated)\n",
    "\n",
    "# Splitting an array\n",
    "split_arr = np.split(concatenated, 3)\n",
    "print(split_arr)\n"
   ],
   "id": "3f78687fc1752e49",
   "outputs": [
    {
     "name": "stdout",
     "output_type": "stream",
     "text": [
      "Concatenated array: [1 2 3 4 5 6]\n",
      "[array([1, 2]), array([3, 4]), array([5, 6])]\n"
     ]
    }
   ],
   "execution_count": 46
  },
  {
   "metadata": {},
   "cell_type": "markdown",
   "source": [
    "## Arithmetic Operations\n",
    "NumPy allows you to perform element-wise operations on arrays, such as addition, subtraction, multiplication, and division. These operations are much faster than looping through lists and applying the operations manually."
   ],
   "id": "2214fee093f1a82c"
  },
  {
   "metadata": {
    "ExecuteTime": {
     "end_time": "2024-10-23T19:55:51.070064Z",
     "start_time": "2024-10-23T19:55:51.065468Z"
    }
   },
   "cell_type": "code",
   "source": [
    "arr = np.array([1, 2, 3, 4])\n",
    "print(arr + 10)  # Output: [11, 12, 13, 14]\n",
    "print(arr * 2)   # Output: [2, 4, 6, 8]\n"
   ],
   "id": "470825260ab95ae",
   "outputs": [
    {
     "name": "stdout",
     "output_type": "stream",
     "text": [
      "[11 12 13 14]\n",
      "[2 4 6 8]\n"
     ]
    }
   ],
   "execution_count": 47
  },
  {
   "metadata": {},
   "cell_type": "markdown",
   "source": [
    "## Universal Functions (UFuncs)\n",
    "NumPy has built-in universal functions (UFuncs) that perform operations on arrays element-wise. These functions are optimized to be much faster than regular Python loops."
   ],
   "id": "abc9526b7812287c"
  },
  {
   "metadata": {
    "ExecuteTime": {
     "end_time": "2024-10-23T19:56:34.032749Z",
     "start_time": "2024-10-23T19:56:34.028332Z"
    }
   },
   "cell_type": "code",
   "source": [
    "arr = np.array([1, 2, 3, 4])\n",
    "print(np.sqrt(arr))  # Output: [1. 1.414 1.732 2]\n"
   ],
   "id": "a233cb6d269d6c3",
   "outputs": [
    {
     "name": "stdout",
     "output_type": "stream",
     "text": [
      "[1.         1.41421356 1.73205081 2.        ]\n"
     ]
    }
   ],
   "execution_count": 48
  },
  {
   "metadata": {},
   "cell_type": "markdown",
   "source": [
    "## Broadcasting\n",
    "Broadcasting is one of NumPy's powerful features, which allows operations on arrays of different shapes. NumPy automatically stretches smaller arrays along larger arrays to allow arithmetic operations without explicitly reshaping them."
   ],
   "id": "8144b105d3ea5f1f"
  },
  {
   "metadata": {
    "ExecuteTime": {
     "end_time": "2024-10-23T19:57:29.116903Z",
     "start_time": "2024-10-23T19:57:29.110544Z"
    }
   },
   "cell_type": "code",
   "source": [
    "arr = np.array([1, 2, 3])\n",
    "scalar = 2\n",
    "print(arr + scalar)  # Broadcasting: scalar is added to each element of the array\n",
    "# Output: [3, 4, 5]\n"
   ],
   "id": "90854a1a88fac4bf",
   "outputs": [
    {
     "name": "stdout",
     "output_type": "stream",
     "text": [
      "[3 4 5]\n"
     ]
    }
   ],
   "execution_count": 49
  },
  {
   "metadata": {},
   "cell_type": "markdown",
   "source": [
    "## Aggregation Functions\n",
    "NumPy provides several aggregation functions like `sum`, `mean`, `min`, `max`, etc., which allow you to compute summary statistics on arrays."
   ],
   "id": "cb4ad76398ccd226"
  },
  {
   "metadata": {
    "ExecuteTime": {
     "end_time": "2024-10-23T19:58:57.352463Z",
     "start_time": "2024-10-23T19:58:57.348899Z"
    }
   },
   "cell_type": "code",
   "source": [
    "arr = np.array([1, 2, 3, 4, 5])\n",
    "print(\"Sum:\", np.sum(arr))         # Output: 15\n",
    "print(\"Mean:\", np.mean(arr))       # Output: 3.0\n",
    "print(\"Min:\", np.min(arr))         # Output: 1\n",
    "print(\"Max:\", np.max(arr))         # Output: 5\n"
   ],
   "id": "3c4f885db25a68f1",
   "outputs": [
    {
     "name": "stdout",
     "output_type": "stream",
     "text": [
      "Sum: 15\n",
      "Mean: 3.0\n",
      "Min: 1\n",
      "Max: 5\n"
     ]
    }
   ],
   "execution_count": 50
  },
  {
   "metadata": {},
   "cell_type": "markdown",
   "source": [
    "## Advanced Indexing (Fancy Indexing)\n",
    "You can use an array of indices to access multiple elements at once."
   ],
   "id": "4714811c2c7ba31c"
  },
  {
   "metadata": {
    "ExecuteTime": {
     "end_time": "2024-10-23T19:59:35.576574Z",
     "start_time": "2024-10-23T19:59:35.572068Z"
    }
   },
   "cell_type": "code",
   "source": [
    "arr = np.array([10, 20, 30, 40, 50])\n",
    "indices = np.array([0, 2, 4])\n",
    "print(arr[indices])  # Output: [10 30 50]\n"
   ],
   "id": "b216543373357c22",
   "outputs": [
    {
     "name": "stdout",
     "output_type": "stream",
     "text": [
      "[10 30 50]\n"
     ]
    }
   ],
   "execution_count": 51
  },
  {
   "metadata": {},
   "cell_type": "markdown",
   "source": [
    "## Sorting\n",
    "NumPy provides efficient methods to sort arrays."
   ],
   "id": "2a454df6213f12be"
  },
  {
   "metadata": {
    "ExecuteTime": {
     "end_time": "2024-10-23T19:59:58.127399Z",
     "start_time": "2024-10-23T19:59:58.123969Z"
    }
   },
   "cell_type": "code",
   "source": [
    "arr = np.array([3, 1, 5, 2, 4])\n",
    "sorted_arr = np.sort(arr)\n",
    "print(\"Sorted array:\", sorted_arr)\n"
   ],
   "id": "4903222357b6577b",
   "outputs": [
    {
     "name": "stdout",
     "output_type": "stream",
     "text": [
      "Sorted array: [1 2 3 4 5]\n"
     ]
    }
   ],
   "execution_count": 52
  },
  {
   "metadata": {},
   "cell_type": "markdown",
   "source": [
    "## Masking\n",
    "Masking allows you to select or modify parts of an array based on conditions. This can be useful for filtering data or replacing certain values."
   ],
   "id": "e3f37f89cd300701"
  },
  {
   "metadata": {
    "ExecuteTime": {
     "end_time": "2024-10-23T20:00:26.016240Z",
     "start_time": "2024-10-23T20:00:26.012506Z"
    }
   },
   "cell_type": "code",
   "source": [
    "arr = np.array([10, 20, 30, 40, 50])\n",
    "mask = arr > 30\n",
    "print(arr[mask])"
   ],
   "id": "5e1c32a7121ef7d5",
   "outputs": [
    {
     "name": "stdout",
     "output_type": "stream",
     "text": [
      "[40 50]\n"
     ]
    }
   ],
   "execution_count": 53
  },
  {
   "metadata": {},
   "cell_type": "markdown",
   "source": [
    "## Linear Algebra\n",
    "NumPy also supports various linear algebra operations like dot products, matrix multiplication, and solving systems of equations."
   ],
   "id": "6c7c63b2981028dc"
  },
  {
   "metadata": {
    "ExecuteTime": {
     "end_time": "2024-10-23T20:01:01.627866Z",
     "start_time": "2024-10-23T20:01:01.623715Z"
    }
   },
   "cell_type": "code",
   "source": [
    "A = np.array([[1, 2], [3, 4]])\n",
    "B = np.array([[5, 6], [7, 8]])\n",
    "\n",
    "C = np.dot(A, B)\n",
    "print(C)"
   ],
   "id": "d35c7cd5692b8642",
   "outputs": [
    {
     "name": "stdout",
     "output_type": "stream",
     "text": [
      "[[19 22]\n",
      " [43 50]]\n"
     ]
    }
   ],
   "execution_count": 54
  },
  {
   "metadata": {},
   "cell_type": "markdown",
   "source": "## Arange",
   "id": "bed4a0ffb9cb513b"
  },
  {
   "metadata": {
    "ExecuteTime": {
     "end_time": "2024-10-23T20:07:57.503331Z",
     "start_time": "2024-10-23T20:07:57.499353Z"
    }
   },
   "cell_type": "code",
   "outputs": [
    {
     "name": "stdout",
     "output_type": "stream",
     "text": [
      "[1 2 3 4 5]\n"
     ]
    }
   ],
   "execution_count": 55,
   "source": [
    "D = np.arange(1, 6)\n",
    "print(D)"
   ],
   "id": "55781a9a1b2ff55d"
  },
  {
   "metadata": {},
   "cell_type": "markdown",
   "source": [
    "## Standard Deviation\n",
    "The standard deviation is a measure of how spread out the numbers in an array are. In NumPy, you can calculate it with `np.std`."
   ],
   "id": "eb795efc87714880"
  },
  {
   "metadata": {
    "ExecuteTime": {
     "end_time": "2024-10-23T20:26:32.650109Z",
     "start_time": "2024-10-23T20:26:32.646909Z"
    }
   },
   "cell_type": "code",
   "source": [
    "arr = np.array([10, 20, 30, 40])\n",
    "std_dev = np.std(arr)\n",
    "print(\"Standard Deviation:\", std_dev)"
   ],
   "id": "35a03fdb18749c88",
   "outputs": [
    {
     "name": "stdout",
     "output_type": "stream",
     "text": [
      "Standard Deviation: 11.180339887498949\n"
     ]
    }
   ],
   "execution_count": 56
  },
  {
   "metadata": {},
   "cell_type": "markdown",
   "source": [
    "## Random Numbers within a Range\n",
    "You can generate random numbers with np.random:\n",
    "\n",
    "- `randint()`: Generates random integers within a specified range.\n",
    "- `random()`: Generates random floating-point numbers between 0 and 1."
   ],
   "id": "7b6a8ed864271caf"
  },
  {
   "metadata": {
    "ExecuteTime": {
     "end_time": "2024-10-23T20:27:12.021486Z",
     "start_time": "2024-10-23T20:27:12.004114Z"
    }
   },
   "cell_type": "code",
   "source": [
    "# Random integers between 1 and 100\n",
    "random_integers = np.random.randint(1, 100, size=(5,))\n",
    "print(\"Random integers:\", random_integers)\n",
    "\n",
    "# Random floats between 0 and 1\n",
    "random_floats = np.random.random(5)\n",
    "print(\"Random floats:\", random_floats)"
   ],
   "id": "c32290a95d936e6a",
   "outputs": [
    {
     "name": "stdout",
     "output_type": "stream",
     "text": [
      "Random integers: [21 91 20  1 61]\n",
      "Random floats: [0.91360825 0.39509015 0.09267946 0.60485084 0.55266425]\n"
     ]
    }
   ],
   "execution_count": 57
  },
  {
   "metadata": {},
   "cell_type": "markdown",
   "source": [
    "## Identity Matrix\n",
    "An identity matrix is a square matrix with ones on the diagonal and zeros elsewhere. You can create one with `np.eye()`."
   ],
   "id": "f490c2f48132bb11"
  },
  {
   "metadata": {
    "ExecuteTime": {
     "end_time": "2024-10-23T20:27:44.622386Z",
     "start_time": "2024-10-23T20:27:44.618637Z"
    }
   },
   "cell_type": "code",
   "source": [
    "identity_matrix = np.eye(4)\n",
    "print(identity_matrix)"
   ],
   "id": "dda034b4ed2cf9a2",
   "outputs": [
    {
     "name": "stdout",
     "output_type": "stream",
     "text": [
      "[[1. 0. 0. 0.]\n",
      " [0. 1. 0. 0.]\n",
      " [0. 0. 1. 0.]\n",
      " [0. 0. 0. 1.]]\n"
     ]
    }
   ],
   "execution_count": 58
  },
  {
   "metadata": {},
   "cell_type": "markdown",
   "source": [
    "## Diagonal Matrix\n",
    "A diagonal matrix is a matrix in which the entries outside the main diagonal are all zero. Use `np.diag()` to create or extract the diagonal from an array."
   ],
   "id": "9757e811d09d9c71"
  },
  {
   "metadata": {
    "ExecuteTime": {
     "end_time": "2024-10-23T20:28:14.478865Z",
     "start_time": "2024-10-23T20:28:14.475625Z"
    }
   },
   "cell_type": "code",
   "source": [
    "# Creating a diagonal matrix\n",
    "diag_matrix = np.diag([1, 2, 3])\n",
    "print(diag_matrix)\n",
    "\n",
    "# Extracting diagonal from an array\n",
    "extracted_diag = np.diag(diag_matrix)\n",
    "print(extracted_diag)"
   ],
   "id": "6a74a57af263de1c",
   "outputs": [
    {
     "name": "stdout",
     "output_type": "stream",
     "text": [
      "[[1 0 0]\n",
      " [0 2 0]\n",
      " [0 0 3]]\n",
      "[1 2 3]\n"
     ]
    }
   ],
   "execution_count": 59
  },
  {
   "metadata": {},
   "cell_type": "markdown",
   "source": [
    "## 3D Arrays (Three-Dimensional Arrays)\n",
    "NumPy supports arrays with any number of dimensions, including 3D arrays (or higher)."
   ],
   "id": "4a6e170b49411bea"
  },
  {
   "metadata": {
    "ExecuteTime": {
     "end_time": "2024-10-23T20:28:49.477030Z",
     "start_time": "2024-10-23T20:28:49.473710Z"
    }
   },
   "cell_type": "code",
   "source": [
    "# Creating a 3D array\n",
    "arr_3d = np.random.randint(1, 100, size=(3, 3, 3))\n",
    "print(arr_3d)\n"
   ],
   "id": "1c6dc5866d56a16e",
   "outputs": [
    {
     "name": "stdout",
     "output_type": "stream",
     "text": [
      "[[[50 69 13]\n",
      "  [51 40 13]\n",
      "  [40 44 74]]\n",
      "\n",
      " [[31 62 42]\n",
      "  [30 89  5]\n",
      "  [94 53 58]]\n",
      "\n",
      " [[93 21 66]\n",
      "  [38 80 74]\n",
      "  [95 57 75]]]\n"
     ]
    }
   ],
   "execution_count": 60
  },
  {
   "metadata": {},
   "cell_type": "markdown",
   "source": [
    "## Data Type (dtype)\n",
    "You can explicitly define the data type of elements in an array using the `dtype` argument, or check the data type of an existing array."
   ],
   "id": "a386182bc5e8365f"
  },
  {
   "metadata": {
    "ExecuteTime": {
     "end_time": "2024-10-23T20:29:14.274548Z",
     "start_time": "2024-10-23T20:29:14.271204Z"
    }
   },
   "cell_type": "code",
   "source": [
    "arr = np.array([1, 2, 3], dtype='float64')\n",
    "print(arr.dtype)"
   ],
   "id": "184157e3f29f6367",
   "outputs": [
    {
     "name": "stdout",
     "output_type": "stream",
     "text": [
      "float64\n"
     ]
    }
   ],
   "execution_count": 61
  },
  {
   "metadata": {},
   "cell_type": "markdown",
   "source": [
    "## Array Size, `itemsize`, and `nbytes`\n",
    "- itemsize: Returns the size (in bytes) of each element in the array.\n",
    "- nbytes: Returns the total memory consumed by the array."
   ],
   "id": "8c419aa07cea9122"
  },
  {
   "metadata": {
    "ExecuteTime": {
     "end_time": "2024-10-23T20:29:50.755205Z",
     "start_time": "2024-10-23T20:29:50.751204Z"
    }
   },
   "cell_type": "code",
   "source": [
    "arr = np.array([1, 2, 3], dtype='int32')\n",
    "print(\"Array size:\", arr.size)\n",
    "print(\"Item size (in bytes):\", arr.itemsize)\n",
    "print(\"Total memory (nbytes):\", arr.nbytes)\n"
   ],
   "id": "13fae7177a555e52",
   "outputs": [
    {
     "name": "stdout",
     "output_type": "stream",
     "text": [
      "Array size: 3\n",
      "Item size (in bytes): 4\n",
      "Total memory (nbytes): 12\n"
     ]
    }
   ],
   "execution_count": 62
  },
  {
   "metadata": {},
   "cell_type": "markdown",
   "source": [
    "## Slicing Arrays\n",
    "In NumPy, slicing an array returns a **view**, not a copy. This means that modifying the slice modifies the original array. If you need a copy, you can explicitly create one."
   ],
   "id": "9f45d105a09e85c9"
  },
  {
   "metadata": {
    "ExecuteTime": {
     "end_time": "2024-10-23T20:31:46.609196Z",
     "start_time": "2024-10-23T20:31:46.605319Z"
    }
   },
   "cell_type": "code",
   "source": [
    "# Original array\n",
    "arr = np.array([[1, 2, 3], [4, 5, 6], [7, 8, 9]])\n",
    "\n",
    "# Slicing the second column (all rows)\n",
    "column_slice = arr[:, 1]\n",
    "print(\"Sliced column:\", column_slice)\n",
    "\n",
    "# Modifying the slice\n",
    "column_slice[0] = 99\n",
    "print(\"Modified array:\\n\", arr)  # Notice how the original array is affected\n",
    "\n",
    "# To make a copy\n",
    "column_copy = arr[:, 1].copy()\n",
    "column_copy[0] = 100\n",
    "print(\"Original array after modifying the copy:\\n\", arr)\n"
   ],
   "id": "a7cbc72b3d56ab14",
   "outputs": [
    {
     "name": "stdout",
     "output_type": "stream",
     "text": [
      "Sliced column: [2 5 8]\n",
      "Modified array:\n",
      " [[ 1 99  3]\n",
      " [ 4  5  6]\n",
      " [ 7  8  9]]\n",
      "Original array after modifying the copy:\n",
      " [[ 1 99  3]\n",
      " [ 4  5  6]\n",
      " [ 7  8  9]]\n"
     ]
    }
   ],
   "execution_count": 70
  },
  {
   "metadata": {},
   "cell_type": "markdown",
   "source": [
    "## Splitting Arrays (Inverse of Concatenation)\n",
    "You can split arrays into multiple sub-arrays using `np.split()`."
   ],
   "id": "3a9d2c21ed61e407"
  },
  {
   "metadata": {
    "ExecuteTime": {
     "end_time": "2024-10-23T20:32:09.294627Z",
     "start_time": "2024-10-23T20:32:09.289586Z"
    }
   },
   "cell_type": "code",
   "source": [
    "arr = np.array([1, 2, 3, 4, 5, 6])\n",
    "split_arrays = np.split(arr, 3)\n",
    "print(split_arrays)  # Splits into 3 arrays"
   ],
   "id": "fa0c030ed21bc9d7",
   "outputs": [
    {
     "name": "stdout",
     "output_type": "stream",
     "text": [
      "[array([1, 2]), array([3, 4]), array([5, 6])]\n"
     ]
    }
   ],
   "execution_count": 71
  },
  {
   "metadata": {},
   "cell_type": "markdown",
   "source": [
    "## Broadcasting (Adding Arrays of Different Dimensions)\n",
    "You can add arrays of different dimensions thanks to NumPy's broadcasting feature. The smaller array is \"stretched\" to fit the larger one."
   ],
   "id": "c1ca0a75e85ffe10"
  },
  {
   "metadata": {
    "ExecuteTime": {
     "end_time": "2024-10-23T20:32:39.407543Z",
     "start_time": "2024-10-23T20:32:39.403904Z"
    }
   },
   "cell_type": "code",
   "source": [
    "arr1 = np.array([1, 2, 3])\n",
    "arr2 = np.array([[0], [1], [2], [3]])\n",
    "\n",
    "# Broadcasting: Adds arr1 to each row of arr2\n",
    "result = arr1 + arr2\n",
    "print(result)"
   ],
   "id": "ca2b7fbd883e664b",
   "outputs": [
    {
     "name": "stdout",
     "output_type": "stream",
     "text": [
      "[[1 2 3]\n",
      " [2 3 4]\n",
      " [3 4 5]\n",
      " [4 5 6]]\n"
     ]
    }
   ],
   "execution_count": 73
  },
  {
   "metadata": {},
   "cell_type": "markdown",
   "source": [
    "## Fancy Indexing (2D)\n",
    "Fancy indexing can also be applied to two-dimensional arrays."
   ],
   "id": "530230fc419bf2b1"
  },
  {
   "metadata": {
    "ExecuteTime": {
     "end_time": "2024-10-23T20:33:09.488277Z",
     "start_time": "2024-10-23T20:33:09.484896Z"
    }
   },
   "cell_type": "code",
   "source": [
    "arr = np.array([[1, 2], [3, 4], [5, 6]])\n",
    "\n",
    "# Fancy indexing to select specific elements\n",
    "print(arr[[0, 1], [1, 0]])  # Output: [2, 3]"
   ],
   "id": "23ad20eec4268649",
   "outputs": [
    {
     "name": "stdout",
     "output_type": "stream",
     "text": [
      "[2 3]\n"
     ]
    }
   ],
   "execution_count": 74
  },
  {
   "metadata": {},
   "cell_type": "markdown",
   "source": [
    "## Histograms\n",
    "You can easily generate histograms using `np.histogram()`."
   ],
   "id": "87993ddea6987022"
  },
  {
   "metadata": {
    "ExecuteTime": {
     "end_time": "2024-10-23T20:34:11.942199Z",
     "start_time": "2024-10-23T20:34:11.938096Z"
    }
   },
   "cell_type": "code",
   "source": [
    "data = np.random.randn(1000)\n",
    "hist, bins = np.histogram(data, bins=10)\n",
    "print(hist)\n",
    "print(bins) \n"
   ],
   "id": "1bfe6ff40f223001",
   "outputs": [
    {
     "name": "stdout",
     "output_type": "stream",
     "text": [
      "[  4  27  89 208 275 242 111  34   8   2]\n",
      "[-3.32424299 -2.61794558 -1.91164818 -1.20535078 -0.49905338  0.20724402\n",
      "  0.91354142  1.61983883  2.32613623  3.03243363  3.73873103]\n"
     ]
    }
   ],
   "execution_count": 76
  },
  {
   "metadata": {},
   "cell_type": "markdown",
   "source": [
    "## Sorting Multi-Dimensional Arrays\n",
    "You can sort arrays along any axis using `np.sort()`."
   ],
   "id": "41a805a356257b48"
  },
  {
   "metadata": {
    "ExecuteTime": {
     "end_time": "2024-10-23T20:34:52.220200Z",
     "start_time": "2024-10-23T20:34:52.216575Z"
    }
   },
   "cell_type": "code",
   "source": [
    "arr = np.array([[3, 2, 1], [6, 5, 4]])\n",
    "sorted_arr = np.sort(arr, axis=1)\n",
    "print(sorted_arr)\n"
   ],
   "id": "2b769f489c9b676c",
   "outputs": [
    {
     "name": "stdout",
     "output_type": "stream",
     "text": [
      "[[1 2 3]\n",
      " [4 5 6]]\n"
     ]
    }
   ],
   "execution_count": 79
  },
  {
   "metadata": {},
   "cell_type": "markdown",
   "source": [
    "## Distance Between Points\n",
    "To compute the Euclidean distance between two points in space, use `np.linalg.norm`."
   ],
   "id": "653fa18bdc93a0ec"
  },
  {
   "metadata": {
    "ExecuteTime": {
     "end_time": "2024-10-23T20:35:10.268774Z",
     "start_time": "2024-10-23T20:35:10.265073Z"
    }
   },
   "cell_type": "code",
   "source": [
    "point1 = np.array([1, 2, 3])\n",
    "point2 = np.array([4, 5, 6])\n",
    "\n",
    "distance = np.linalg.norm(point1 - point2)\n",
    "print(\"Euclidean distance:\", distance)\n"
   ],
   "id": "246f39f8b11f91f9",
   "outputs": [
    {
     "name": "stdout",
     "output_type": "stream",
     "text": [
      "Euclidean distance: 5.196152422706632\n"
     ]
    }
   ],
   "execution_count": 80
  },
  {
   "metadata": {},
   "cell_type": "markdown",
   "source": [
    "## Solving Systems of Linear Equations\n",
    "You can solve systems of linear equations using `np.linalg.solve()`."
   ],
   "id": "8d25f40d6fa707e5"
  },
  {
   "metadata": {
    "ExecuteTime": {
     "end_time": "2024-10-23T20:38:21.416906Z",
     "start_time": "2024-10-23T20:38:21.413811Z"
    }
   },
   "cell_type": "code",
   "source": [
    "A = np.array([[3, 1], [1, 2]])\n",
    "b = np.array([9, 8])\n",
    "\n",
    "# Solve the system of equations Ax = b\n",
    "x = np.linalg.solve(A, b)\n",
    "print(\"Solution to the system:\", x)\n",
    "\n",
    "\n",
    "# Another example\n",
    "# 2x1 + 2x2 = 1\n",
    "# 3x1 + x2 = 2\n",
    "X = np.array([[2, 2], [3, 1]])\n",
    "Y = np.array([1, 2])\n",
    "print(\"Solution to the system:\", np.linalg.solve(X, Y))"
   ],
   "id": "2bb6357927e8d03",
   "outputs": [
    {
     "name": "stdout",
     "output_type": "stream",
     "text": [
      "Solution to the system: [2. 3.]\n",
      "Solution to the system: [ 0.75 -0.25]\n"
     ]
    }
   ],
   "execution_count": 84
  },
  {
   "metadata": {},
   "cell_type": "markdown",
   "source": [
    "## Eigenvectors and Eigenvalues\n",
    "To compute the eigenvalues and eigenvectors of a matrix, use `np.linalg.eig()`."
   ],
   "id": "8cc51de0a2450ecd"
  },
  {
   "metadata": {
    "ExecuteTime": {
     "end_time": "2024-10-23T20:39:36.078092Z",
     "start_time": "2024-10-23T20:39:36.074368Z"
    }
   },
   "cell_type": "code",
   "source": [
    "A = np.array([[3, 1], [1, 2]])\n",
    "eigenvalues, eigenvectors = np.linalg.eig(A)\n",
    "\n",
    "print(\"Eigenvalues:\", eigenvalues)\n",
    "print(\"Eigenvectors:\\n\", eigenvectors)\n"
   ],
   "id": "71191dcda3f4f805",
   "outputs": [
    {
     "name": "stdout",
     "output_type": "stream",
     "text": [
      "Eigenvalues: [3.61803399 1.38196601]\n",
      "Eigenvectors:\n",
      " [[ 0.85065081 -0.52573111]\n",
      " [ 0.52573111  0.85065081]]\n"
     ]
    }
   ],
   "execution_count": 85
  }
 ],
 "metadata": {
  "kernelspec": {
   "display_name": "Python 3",
   "language": "python",
   "name": "python3"
  },
  "language_info": {
   "codemirror_mode": {
    "name": "ipython",
    "version": 2
   },
   "file_extension": ".py",
   "mimetype": "text/x-python",
   "name": "python",
   "nbconvert_exporter": "python",
   "pygments_lexer": "ipython2",
   "version": "2.7.6"
  }
 },
 "nbformat": 4,
 "nbformat_minor": 5
}
