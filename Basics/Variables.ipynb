{
 "cells": [
  {
   "metadata": {},
   "cell_type": "markdown",
   "source": [
    "# Types of data in python\n",
    "\n",
    "### Data types in Python\n",
    "Python can accept many data types, including:\n",
    "- integers (int).\n",
    "- Floating-point numbers (float).\n",
    "- Writes (str).\n",
    "- Lists (list).\n",
    "- Dictionaries (dict).\n",
    "- Tuples (tuple).\n",
    "- Sets (set).\n",
    "- Booleans (bool).\n",
    "\n",
    "### Numbers in Python\n",
    "- Numbers in Python are of two types:\n",
    "    - Integer numbers (int).\n",
    "    - Floating point numbers (float).\n",
    "\n",
    "## Arithmetic in Python\n",
    "### / * + - <br>\n",
    "\n",
    "- Python will follow the order of operations.\n",
    "- We use the double asterisk __*__ for powers (primes are only fractional powers).\n",
    "- Divide always returns a floating-point number.\n",
    "- There are several special operations:\n",
    "    - Modulo (x%y) gives the remainder of dividing x by y.\n",
    "    - Divide (x//y) gives the result of dividing x by y rounded down to the nearest whole number.\n"
   ],
   "id": "7999862a846f4d3d"
  },
  {
   "metadata": {
    "collapsed": true
   },
   "cell_type": "code",
   "source": [
    "print('adding 2 + 1 =', 2 + 1)\n",
    "print('subtraction 3 - 1 =', 3 - 1)\n",
    "print('multiplication 4 * 2 =', 4 * 2)\n",
    "print('division 5 / 2 =', 5 / 2)\n",
    "print('division with rounding 5 // 2 =', 5 // 2)\n",
    "print('modulo 7 % 4 =', 7 % 4)\n",
    "print('modulo 6 % 2 =', 6 % 2)\n",
    "print('powers 2 ** 3 =', 2 ** 3)\n",
    "print('elements (pierwiastki) 4 ** 0.5 =', 4 ** 0.5)\n",
    "print('elements (pierwiastki) 8 ** (1/3) =', 8 ** (1/3))\n",
    "print('sequence of operations 2 + 2 * 2 =', 2 + 2 * 2)\n",
    "print('sequence of operations (2 + 2) * 2 =', (2 + 2) * 2)\n",
    "print('number 4 indicates the rounding precision')\n",
    "print('rounding round(10/3, 4) =', round(10/3, 4))\n",
    "print('rounding round(10/3, 5) =', round(10/3, 5))\n"
   ],
   "id": "initial_id",
   "outputs": [],
   "execution_count": null
  },
  {
   "metadata": {},
   "cell_type": "markdown",
   "source": [
    "# No type\n",
    "- None and 0\n",
    "- None has the data type “NoneType” and therefore is not a value (can be used as a placeholder before adding a value).\n",
    "- 0 is an integer and therefore a value, this shows that we have a value, but the value is an integer 0."
   ],
   "id": "7ce2a7324abfbf17"
  },
  {
   "metadata": {},
   "cell_type": "code",
   "source": [
    "print('type(None)', type(None))\n",
    "print('type(0)', type(0))"
   ],
   "id": "5c39a0082934f769",
   "outputs": [],
   "execution_count": null
  },
  {
   "metadata": {},
   "cell_type": "code",
   "source": [
    "# throws error\n",
    "# test = None + 1"
   ],
   "id": "ff156c45c99853d",
   "outputs": [],
   "execution_count": null
  },
  {
   "metadata": {},
   "cell_type": "markdown",
   "source": "# keywords in python",
   "id": "7cff1043d6f00eea"
  },
  {
   "metadata": {},
   "cell_type": "code",
   "source": [
    "import keyword\n",
    "\n",
    "for i in keyword.kwlist:\n",
    "    print(i)"
   ],
   "id": "e10da1346737cac7",
   "outputs": [],
   "execution_count": null
  },
  {
   "metadata": {},
   "cell_type": "code",
   "source": [
    "print('New line with end')\n",
    "print('hello', end=\"\\n\\n\")\n",
    "print('test')"
   ],
   "id": "f2628176c46c99b3",
   "outputs": [],
   "execution_count": null
  },
  {
   "metadata": {},
   "cell_type": "markdown",
   "source": [
    "## Character strings in Python\n",
    "- Strings (str) are a way of representing textual information in Python.\n",
    "- They are denoted by quotation marks: single ('') or double (“”).\n",
    "- It's usually best to use double speech marks, since apostrophes in text can prematurely end a string.\n",
    "- Apostrophes or other special characters in strings can be changed with a backslash character."
   ],
   "id": "3fd4a50aa1bfe8ff"
  },
  {
   "metadata": {
    "ExecuteTime": {
     "end_time": "2024-10-13T19:49:34.688029Z",
     "start_time": "2024-10-13T19:49:34.682637Z"
    }
   },
   "cell_type": "code",
   "source": [
    "# print('What's up?')\n",
    "print('What\\'s up?')\n",
    "print(\"What's up?\")\n",
    "print(\"What's the \\\"problem\\\"?\")\n",
    "\n",
    "message = \"What's up?\"\n",
    "print(message.upper())\n",
    "print(message.lower())\n",
    "print(\"splitting string by spaces\")\n",
    "print(message.split())\n",
    "print(\"parameter \\\"t\\\" is now default operator\")\n",
    "print(message.split(\"t\"))\n"
   ],
   "id": "da1796097ec27f08",
   "outputs": [
    {
     "name": "stdout",
     "output_type": "stream",
     "text": [
      "What's up?\n",
      "What's up?\n",
      "What's the \"problem\"?\n",
      "WHAT'S UP?\n",
      "what's up?\n",
      "splitting string by spaces\n",
      "[\"What's\", 'up?']\n",
      "parameter \"t\" is now default operator\n",
      "['Wha', \"'s up?\"]\n"
     ]
    }
   ],
   "execution_count": 43
  },
  {
   "metadata": {},
   "cell_type": "markdown",
   "source": [
    "## format method\n",
    "- The .format method is a way to insert something into a string.\n",
    "- This can be another string or a variable taken from elsewhere in the code.\n",
    "- Using .format to add a floating point number to a string, we can specify the width and precision of a decimal fraction."
   ],
   "id": "e433fc4813b3f98b"
  },
  {
   "metadata": {
    "ExecuteTime": {
     "end_time": "2024-10-13T20:02:14.693916Z",
     "start_time": "2024-10-13T20:02:14.689599Z"
    }
   },
   "cell_type": "code",
   "source": [
    "print(\"default order\")\n",
    "print(\"The {} {} {}\".format(\"fox\", \"brown\", \"quick\"))\n",
    "print(\"custom ordering\")\n",
    "print(\"The {2} {1} {0}\".format(\"fox\", \"brown\", \"quick\"))\n",
    "print(\"keywords ordering\")\n",
    "print(\"The {q} {b} {f}\".format(f=\"fox\", b=\"brown\", q=\"quick\"))\n",
    "\n",
    "result = 10000/66\n",
    "print(\"long fraction\", result)\n",
    "print(\"The result was {:1.3f}\".format(result))\n",
    "print(\"The result was {r:1.3f}\".format(r=result))\n",
    "print(\"The result was {r:1.7f}\".format(r=result))\n",
    "print(\"The result was {r:8.3f}\".format(r=result))\n",
    "print(\"The result was {r:8.2f}\".format(r=result))\n",
    "print(\"The result was {r:10.2f}\".format(r=result))\n",
    "print(\"\"\"8 is the width of the field, which is the minimum number of characters that the result should take (including numbers before and after the decimal point and the period).\n",
    ".3 means we want three decimal places.\n",
    "f means the format of the floating-point number (float).\"\"\")"
   ],
   "id": "dcb8afca7f853862",
   "outputs": [
    {
     "name": "stdout",
     "output_type": "stream",
     "text": [
      "default order\n",
      "The fox brown quick\n",
      "custom ordering\n",
      "The quick brown fox\n",
      "keywords ordering\n",
      "The quick brown fox\n",
      "long fraction 151.5151515151515\n",
      "The result was 151.515\n",
      "The result was 151.515\n",
      "The result was 151.5151515\n",
      "The result was  151.515\n",
      "The result was   151.52\n",
      "The result was     151.52\n",
      "8 is the width of the field, which is the minimum number of characters that the result should take (including numbers before and after the decimal point and the period).\n",
      ".3 means we want three decimal places.\n",
      "f means the format of the floating-point number (float).\n"
     ]
    }
   ],
   "execution_count": 56
  },
  {
   "metadata": {},
   "cell_type": "markdown",
   "source": [
    "## Indexing and cutting strings\n",
    "- Strings are iterable, which means they can return their elements one at a time.\n",
    "- Strings are also immutable, meaning that their elements cannot be changed after assignment.\n",
    "- Each character in a string is one element: this includes spaces and punctuation marks.\n",
    "- We can use this to call back one element (indexing).\n",
    "- Or a number of elements (slicing).\n",
    "- Indexing starts at 0 (zero).\n",
    "- Slicing is inclusive of the lower boundary (inclusive).\n",
    "- Slicing is exclusive at the upper boundary (up to, but not including)."
   ],
   "id": "76b07f05b4bb42e5"
  },
  {
   "metadata": {
    "ExecuteTime": {
     "end_time": "2024-10-13T20:06:58.758380Z",
     "start_time": "2024-10-13T20:06:58.755175Z"
    }
   },
   "cell_type": "code",
   "source": [
    "some_string = \"hello world\"\n",
    "print(some_string[0])\n",
    "print(some_string[-1])\n",
    "print(some_string[1:4])\n",
    "print(some_string[1:])\n",
    "print(some_string[:3])\n",
    "# it's not allowed\n",
    "# some_string[0] = 'x'"
   ],
   "id": "21f52844e539643c",
   "outputs": [
    {
     "name": "stdout",
     "output_type": "stream",
     "text": [
      "h\n",
      "d\n",
      "ell\n",
      "ello world\n",
      "hel\n"
     ]
    }
   ],
   "execution_count": 59
  }
 ],
 "metadata": {
  "kernelspec": {
   "display_name": "Python 3",
   "language": "python",
   "name": "python3"
  },
  "language_info": {
   "codemirror_mode": {
    "name": "ipython",
    "version": 2
   },
   "file_extension": ".py",
   "mimetype": "text/x-python",
   "name": "python",
   "nbconvert_exporter": "python",
   "pygments_lexer": "ipython2",
   "version": "2.7.6"
  }
 },
 "nbformat": 4,
 "nbformat_minor": 5
}
