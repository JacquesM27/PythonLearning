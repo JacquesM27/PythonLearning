{
 "cells": [
  {
   "metadata": {},
   "cell_type": "markdown",
   "source": [
    "# Types of data in python\n",
    "\n",
    "### Data types in Python\n",
    "Python can accept many data types, including:\n",
    "- integers (int).\n",
    "- Floating-point numbers (float).\n",
    "- Writes (str).\n",
    "- Lists (list).\n",
    "- Dictionaries (dict).\n",
    "- Tuples (tuple).\n",
    "- Sets (set).\n",
    "- Booleans (bool).\n",
    "\n",
    "### Numbers in Python\n",
    "- Numbers in Python are of two types:\n",
    "    - Integer numbers (int).\n",
    "    - Floating point numbers (float).\n",
    "\n",
    "## Arithmetic in Python\n",
    "### / * + - <br>\n",
    "\n",
    "- Python will follow the order of operations.\n",
    "- We use the double asterisk __*__ for powers (primes are only fractional powers).\n",
    "- Divide always returns a floating-point number.\n",
    "- There are several special operations:\n",
    "    - Modulo (x%y) gives the remainder of dividing x by y.\n",
    "    - Divide (x//y) gives the result of dividing x by y rounded down to the nearest whole number.\n"
   ],
   "id": "7999862a846f4d3d"
  },
  {
   "metadata": {
    "collapsed": true,
    "ExecuteTime": {
     "end_time": "2024-10-19T16:39:37.139162Z",
     "start_time": "2024-10-19T16:39:37.133121Z"
    }
   },
   "cell_type": "code",
   "source": [
    "print('adding 2 + 1 =', 2 + 1)\n",
    "print('subtraction 3 - 1 =', 3 - 1)\n",
    "print('multiplication 4 * 2 =', 4 * 2)\n",
    "print('division 5 / 2 =', 5 / 2)\n",
    "print('division with rounding 5 // 2 =', 5 // 2)\n",
    "print('modulo 7 % 4 =', 7 % 4)\n",
    "print('modulo 6 % 2 =', 6 % 2)\n",
    "print('powers 2 ** 3 =', 2 ** 3)\n",
    "print('elements (pierwiastki) 4 ** 0.5 =', 4 ** 0.5)\n",
    "print('elements (pierwiastki) 8 ** (1/3) =', 8 ** (1/3))\n",
    "print('sequence of operations 2 + 2 * 2 =', 2 + 2 * 2)\n",
    "print('sequence of operations (2 + 2) * 2 =', (2 + 2) * 2)\n",
    "print('number 4 indicates the rounding precision')\n",
    "print('rounding round(10/3, 4) =', round(10/3, 4))\n",
    "print('rounding round(10/3, 5) =', round(10/3, 5))\n"
   ],
   "id": "initial_id",
   "outputs": [
    {
     "name": "stdout",
     "output_type": "stream",
     "text": [
      "adding 2 + 1 = 3\n",
      "subtraction 3 - 1 = 2\n",
      "multiplication 4 * 2 = 8\n",
      "division 5 / 2 = 2.5\n",
      "division with rounding 5 // 2 = 2\n",
      "modulo 7 % 4 = 3\n",
      "modulo 6 % 2 = 0\n",
      "powers 2 ** 3 = 8\n",
      "elements (pierwiastki) 4 ** 0.5 = 2.0\n",
      "elements (pierwiastki) 8 ** (1/3) = 2.0\n",
      "sequence of operations 2 + 2 * 2 = 6\n",
      "sequence of operations (2 + 2) * 2 = 8\n",
      "number 4 indicates the rounding precision\n",
      "rounding round(10/3, 4) = 3.3333\n",
      "rounding round(10/3, 5) = 3.33333\n"
     ]
    }
   ],
   "execution_count": 1
  },
  {
   "metadata": {},
   "cell_type": "markdown",
   "source": [
    "# No type\n",
    "- None and 0\n",
    "- None has the data type “NoneType” and therefore is not a value (can be used as a placeholder before adding a value).\n",
    "- 0 is an integer and therefore a value, this shows that we have a value, but the value is an integer 0."
   ],
   "id": "7ce2a7324abfbf17"
  },
  {
   "metadata": {
    "ExecuteTime": {
     "end_time": "2024-10-19T16:39:37.157126Z",
     "start_time": "2024-10-19T16:39:37.153167Z"
    }
   },
   "cell_type": "code",
   "source": [
    "print('type(None)', type(None))\n",
    "print('type(0)', type(0))"
   ],
   "id": "5c39a0082934f769",
   "outputs": [
    {
     "name": "stdout",
     "output_type": "stream",
     "text": [
      "type(None) <class 'NoneType'>\n",
      "type(0) <class 'int'>\n"
     ]
    }
   ],
   "execution_count": 2
  },
  {
   "metadata": {
    "ExecuteTime": {
     "end_time": "2024-10-19T16:39:37.169451Z",
     "start_time": "2024-10-19T16:39:37.166132Z"
    }
   },
   "cell_type": "code",
   "source": [
    "# throws error\n",
    "# test = None + 1"
   ],
   "id": "ff156c45c99853d",
   "outputs": [],
   "execution_count": 3
  },
  {
   "metadata": {},
   "cell_type": "markdown",
   "source": "# keywords in python",
   "id": "7cff1043d6f00eea"
  },
  {
   "metadata": {
    "ExecuteTime": {
     "end_time": "2024-10-19T16:39:37.183728Z",
     "start_time": "2024-10-19T16:39:37.174457Z"
    }
   },
   "cell_type": "code",
   "source": [
    "import keyword\n",
    "\n",
    "for i in keyword.kwlist:\n",
    "    print(i)"
   ],
   "id": "e10da1346737cac7",
   "outputs": [
    {
     "name": "stdout",
     "output_type": "stream",
     "text": [
      "False\n",
      "None\n",
      "True\n",
      "and\n",
      "as\n",
      "assert\n",
      "async\n",
      "await\n",
      "break\n",
      "class\n",
      "continue\n",
      "def\n",
      "del\n",
      "elif\n",
      "else\n",
      "except\n",
      "finally\n",
      "for\n",
      "from\n",
      "global\n",
      "if\n",
      "import\n",
      "in\n",
      "is\n",
      "lambda\n",
      "nonlocal\n",
      "not\n",
      "or\n",
      "pass\n",
      "raise\n",
      "return\n",
      "try\n",
      "while\n",
      "with\n",
      "yield\n"
     ]
    }
   ],
   "execution_count": 4
  },
  {
   "metadata": {
    "ExecuteTime": {
     "end_time": "2024-10-19T16:39:37.718242Z",
     "start_time": "2024-10-19T16:39:37.712719Z"
    }
   },
   "cell_type": "code",
   "source": [
    "print('New line with end')\n",
    "print('hello', end=\"\\n\\n\")\n",
    "print('test')"
   ],
   "id": "f2628176c46c99b3",
   "outputs": [
    {
     "name": "stdout",
     "output_type": "stream",
     "text": [
      "New line with end\n",
      "hello\n",
      "\n",
      "test\n"
     ]
    }
   ],
   "execution_count": 5
  },
  {
   "metadata": {},
   "cell_type": "markdown",
   "source": [
    "## Character strings in Python\n",
    "- Strings (str) are a way of representing textual information in Python.\n",
    "- They are denoted by quotation marks: single ('') or double (“”).\n",
    "- It's usually best to use double speech marks, since apostrophes in text can prematurely end a string.\n",
    "- Apostrophes or other special characters in strings can be changed with a backslash character."
   ],
   "id": "3fd4a50aa1bfe8ff"
  },
  {
   "metadata": {
    "ExecuteTime": {
     "end_time": "2024-10-19T16:39:37.779603Z",
     "start_time": "2024-10-19T16:39:37.776084Z"
    }
   },
   "cell_type": "code",
   "source": [
    "# print('What's up?')\n",
    "print('What\\'s up?')\n",
    "print(\"What's up?\")\n",
    "print(\"What's the \\\"problem\\\"?\")\n",
    "\n",
    "message = \"What's up?\"\n",
    "print(message.upper())\n",
    "print(message.lower())\n",
    "print(\"splitting string by spaces\")\n",
    "print(message.split())\n",
    "print(\"parameter \\\"t\\\" is now default operator\")\n",
    "print(message.split(\"t\"))\n"
   ],
   "id": "da1796097ec27f08",
   "outputs": [
    {
     "name": "stdout",
     "output_type": "stream",
     "text": [
      "What's up?\n",
      "What's up?\n",
      "What's the \"problem\"?\n",
      "WHAT'S UP?\n",
      "what's up?\n",
      "splitting string by spaces\n",
      "[\"What's\", 'up?']\n",
      "parameter \"t\" is now default operator\n",
      "['Wha', \"'s up?\"]\n"
     ]
    }
   ],
   "execution_count": 6
  },
  {
   "metadata": {},
   "cell_type": "markdown",
   "source": [
    "## format method\n",
    "- The .format method is a way to insert something into a string.\n",
    "- This can be another string or a variable taken from elsewhere in the code.\n",
    "- Using .format to add a floating point number to a string, we can specify the width and precision of a decimal fraction."
   ],
   "id": "e433fc4813b3f98b"
  },
  {
   "metadata": {
    "ExecuteTime": {
     "end_time": "2024-10-19T16:39:37.827501Z",
     "start_time": "2024-10-19T16:39:37.822623Z"
    }
   },
   "cell_type": "code",
   "source": [
    "print(\"default order\")\n",
    "print(\"The {} {} {}\".format(\"fox\", \"brown\", \"quick\"))\n",
    "print(\"custom ordering\")\n",
    "print(\"The {2} {1} {0}\".format(\"fox\", \"brown\", \"quick\"))\n",
    "print(\"keywords ordering\")\n",
    "print(\"The {q} {b} {f}\".format(f=\"fox\", b=\"brown\", q=\"quick\"))\n",
    "\n",
    "result = 10000/66\n",
    "print(\"long fraction\", result)\n",
    "print(\"The result was {:1.3f}\".format(result))\n",
    "print(\"The result was {r:1.3f}\".format(r=result))\n",
    "print(\"The result was {r:1.7f}\".format(r=result))\n",
    "print(\"The result was {r:8.3f}\".format(r=result))\n",
    "print(\"The result was {r:8.2f}\".format(r=result))\n",
    "print(\"The result was {r:10.2f}\".format(r=result))\n",
    "print(\"\"\"8 is the width of the field, which is the minimum number of characters that the result should take (including numbers before and after the decimal point and the period).\n",
    ".3 means we want three decimal places.\n",
    "f means the format of the floating-point number (float).\"\"\")"
   ],
   "id": "dcb8afca7f853862",
   "outputs": [
    {
     "name": "stdout",
     "output_type": "stream",
     "text": [
      "default order\n",
      "The fox brown quick\n",
      "custom ordering\n",
      "The quick brown fox\n",
      "keywords ordering\n",
      "The quick brown fox\n",
      "long fraction 151.5151515151515\n",
      "The result was 151.515\n",
      "The result was 151.515\n",
      "The result was 151.5151515\n",
      "The result was  151.515\n",
      "The result was   151.52\n",
      "The result was     151.52\n",
      "8 is the width of the field, which is the minimum number of characters that the result should take (including numbers before and after the decimal point and the period).\n",
      ".3 means we want three decimal places.\n",
      "f means the format of the floating-point number (float).\n"
     ]
    }
   ],
   "execution_count": 7
  },
  {
   "metadata": {},
   "cell_type": "markdown",
   "source": [
    "## Indexing and cutting strings\n",
    "- Strings are iterable, which means they can return their elements one at a time.\n",
    "- Strings are also immutable, meaning that their elements cannot be changed after assignment.\n",
    "- Each character in a string is one element: this includes spaces and punctuation marks.\n",
    "- We can use this to call back one element (indexing).\n",
    "- Or a number of elements (slicing).\n",
    "- Indexing starts at 0 (zero).\n",
    "- Slicing is inclusive of the lower boundary (inclusive).\n",
    "- Slicing is exclusive at the upper boundary (up to, but not including)."
   ],
   "id": "76b07f05b4bb42e5"
  },
  {
   "metadata": {
    "ExecuteTime": {
     "end_time": "2024-10-19T16:39:37.933784Z",
     "start_time": "2024-10-19T16:39:37.927285Z"
    }
   },
   "cell_type": "code",
   "source": [
    "some_string = \"hello world\"\n",
    "print(some_string[0])\n",
    "print(some_string[-1])\n",
    "print(some_string[1:4])\n",
    "print(some_string[1:])\n",
    "print(some_string[:3])\n",
    "# it's not allowed\n",
    "# some_string[0] = 'x'"
   ],
   "id": "21f52844e539643c",
   "outputs": [
    {
     "name": "stdout",
     "output_type": "stream",
     "text": [
      "h\n",
      "d\n",
      "ell\n",
      "ello world\n",
      "hel\n"
     ]
    }
   ],
   "execution_count": 8
  },
  {
   "metadata": {},
   "cell_type": "markdown",
   "source": "### Some exercises",
   "id": "16ece45abbc19156"
  },
  {
   "metadata": {
    "ExecuteTime": {
     "end_time": "2024-10-19T16:39:38.053061Z",
     "start_time": "2024-10-19T16:39:38.049349Z"
    }
   },
   "cell_type": "code",
   "source": [
    "phrase1 = 'Clean Couch'\n",
    "phrase2 = 'Giant Table'\n",
    "\n",
    "word1, word2 = phrase1.split()\n",
    "if word1[0].lower() == word2[0].lower():\n",
    "    print(f\"'{phrase1}' - The words start with the same letter.\")\n",
    "else:\n",
    "    print(f\"'{phrase1}' - The words do not start with the same letter.\")\n",
    "    \n",
    "word1, word2 = phrase2.split()\n",
    "if word1[0].lower() == word2[0].lower():\n",
    "    print(f\"'{phrase1}' - The words start with the same letter.\")\n",
    "else:\n",
    "    print(f\"'{phrase1}' - The words do not start with the same letter.\")"
   ],
   "id": "90afd106eb9be9c3",
   "outputs": [
    {
     "name": "stdout",
     "output_type": "stream",
     "text": [
      "'Clean Couch' - The words start with the same letter.\n",
      "'Clean Couch' - The words do not start with the same letter.\n"
     ]
    }
   ],
   "execution_count": 9
  },
  {
   "metadata": {
    "ExecuteTime": {
     "end_time": "2024-10-19T16:43:06.129342Z",
     "start_time": "2024-10-19T16:43:06.126024Z"
    }
   },
   "cell_type": "code",
   "source": [
    "my_string1 = 'This is a short phrase'\n",
    "my_string2 = 'This is actually a significantly longer phrase than the previous one'\n",
    "\n",
    "words = my_string1.split()\n",
    "reversed_words = words[::-1]\n",
    "reversed_string1 = \" \".join(reversed_words)\n",
    "print(reversed_string1)\n",
    "\n",
    "reversed_string2 = \" \".join(my_string2.split()[::-1])\n",
    "print(reversed_string2)"
   ],
   "id": "834ed188b366da17",
   "outputs": [
    {
     "name": "stdout",
     "output_type": "stream",
     "text": [
      "phrase short a is This\n",
      "one previous the than phrase longer significantly a actually is This\n"
     ]
    }
   ],
   "execution_count": 18
  },
  {
   "metadata": {
    "ExecuteTime": {
     "end_time": "2024-10-19T16:45:46.614177Z",
     "start_time": "2024-10-19T16:45:46.608934Z"
    }
   },
   "cell_type": "code",
   "source": [
    "d = {'start here': 1,\n",
    "     'k1': [1, 2, 3, {\n",
    "         'k2': [1, 2, {\n",
    "             'k3': ['keep going', {\n",
    "                 'further': [1, 2, 3, 4, [{\n",
    "                     'k4': 'python'\n",
    "                 }]]\n",
    "             }]\n",
    "         }]\n",
    "     }]\n",
    "}\n",
    "result = d[\"k1\"][3][\"k2\"][2][\"k3\"][1][\"further\"][4][0][\"k4\"]\n",
    "print(result)"
   ],
   "id": "231c0d06dc31938f",
   "outputs": [
    {
     "name": "stdout",
     "output_type": "stream",
     "text": [
      "python\n"
     ]
    }
   ],
   "execution_count": 19
  },
  {
   "metadata": {
    "ExecuteTime": {
     "end_time": "2024-10-20T16:39:39.634014Z",
     "start_time": "2024-10-20T16:39:39.628119Z"
    }
   },
   "cell_type": "code",
   "source": [
    "shop = {\n",
    "    \"prices\": {\n",
    "        \"tomato\": 0.87,\n",
    "        \"sugar\": 1.09,\n",
    "        \"sponges\": 0.29,\n",
    "        \"juice\": 1.89,\n",
    "        \"foil\": 1.29\n",
    "    },\n",
    "    \"pack_sizes\": {\n",
    "        \"tomato\": \"Pack of 6\",\n",
    "        \"sugar\": \"500 g\",\n",
    "        \"sponges\": \"Pack of 10\",\n",
    "        \"juice\": \"1.5l bottle\",\n",
    "        \"foil\": \"30m roll\"\n",
    "    }\n",
    "}\n",
    "\n",
    "print(shop)\n",
    "\n",
    "quantities = [18, 2, 4.5, 4, 2]\n",
    "\n",
    "pack_cost = [\n",
    "    shop[\"prices\"][\"tomato\"],\n",
    "    shop[\"prices\"][\"sugar\"],\n",
    "    shop[\"prices\"][\"sponges\"],\n",
    "    shop[\"prices\"][\"juice\"],\n",
    "    shop[\"prices\"][\"foil\"]\n",
    "]\n",
    "\n",
    "pack = [\n",
    "    shop[\"pack_sizes\"][\"tomato\"],\n",
    "    shop[\"pack_sizes\"][\"sugar\"],\n",
    "    shop[\"pack_sizes\"][\"sponges\"],\n",
    "    shop[\"pack_sizes\"][\"juice\"],\n",
    "    shop[\"pack_sizes\"][\"foil\"]\n",
    "]\n",
    "\n",
    "tsp = [\n",
    "    pack_cost[0] * (quantities[0] / 6),\n",
    "    pack_cost[1] * (quantities[1]),\n",
    "    pack_cost[2] * (quantities[2] / 1.5),\n",
    "    pack_cost[3] * (quantities[3]),\n",
    "    pack_cost[4] * (quantities[4] / 0.5),\n",
    "]\n",
    "\n",
    "order = [pack_cost, pack, quantities, tsp]\n",
    "\n",
    "print(\"nested list:\")\n",
    "for lst in order:\n",
    "    print(lst)\n",
    "    \n",
    "print()\n",
    "\n",
    "order_sum = sum(tsp)\n",
    "print(\"Sum without tax: £{:.2f}\".format(order_sum))\n",
    "\n",
    "order_total = order_sum * 1.20\n",
    "print(\"Sum with tax: £:{:.2f}\".format(order_total))"
   ],
   "id": "ffc4d19cecaa7787",
   "outputs": [
    {
     "name": "stdout",
     "output_type": "stream",
     "text": [
      "{'prices': {'tomato': 0.87, 'sugar': 1.09, 'sponges': 0.29, 'juice': 1.89, 'foil': 1.29}, 'pack_sizes': {'tomato': 'Pack of 6', 'sugar': '500 g', 'sponges': 'Pack of 10', 'juice': '1.5l bottle', 'foil': '30m roll'}}\n",
      "nested list:\n",
      "[0.87, 1.09, 0.29, 1.89, 1.29]\n",
      "['Pack of 6', '500 g', 'Pack of 10', '1.5l bottle', '30m roll']\n",
      "[18, 2, 4.5, 4, 2]\n",
      "[2.61, 2.18, 0.8699999999999999, 7.56, 5.16]\n",
      "\n",
      "Sum without tax: £18.38\n",
      "Sum with tax: £:22.06\n"
     ]
    }
   ],
   "execution_count": 3
  },
  {
   "metadata": {},
   "cell_type": "markdown",
   "source": [
    "### print(\"Sum without tax: £{:.2f}\".format(order_sum))\n",
    "1. `{}`:\n",
    "    - In Python, we put expressions in curly brackets ({}) that we want to replace with appropriate values when formatting text. These are called placeholders, which are filled in by the data passed to the .format() method .\n",
    "2. `:.2f`:\n",
    "     - `:` - a colon marks the beginning of the format specifier.\n",
    "     - `.2` - means that we want to display a number with two decimal places.\n",
    "     - `f` - means that we want to format the number as a floating point number ( float).\n",
    "Total `:.2f` means that the floating point number will be displayed to two decimal places.\n",
    "3. `.format(order_sum)`:\n",
    "    - The .format() function is used to substitute a value into {} inside a string. In this case, the value of the order_sum variable will be placed in {:.2f} and formatted according to the given rules.\n",
    "\n"
   ],
   "id": "d09555841c94cc5d"
  },
  {
   "metadata": {
    "ExecuteTime": {
     "end_time": "2024-10-20T16:57:25.984756Z",
     "start_time": "2024-10-20T16:57:25.978459Z"
    }
   },
   "cell_type": "code",
   "source": [
    "# examples\n",
    "order_sum = 12.5678\n",
    "print(\"Sum without tax: £{:.2f}\".format(order_sum))\n",
    "# It's not rounding\n",
    "order_sum = 15\n",
    "print(\"Sum without tax: £{:.2f}\".format(order_sum))\n",
    "\n",
    "name = \"Alice\"\n",
    "age = 30\n",
    "print(\"My name is {} and I am {} years old.\".format(name, age))\n",
    "\n",
    "# first char in {} means index of format parameter\n",
    "print(\"Item {1} costs £{0:.2f}\".format(12.3456, \"Banana\"))\n",
    "\n",
    "# it can be also a name\n",
    "print(\"The price of {item} is £{price:.2f}\".format(item=\"Apple\", price=1.23))\n",
    "\n",
    "print(\"{:<4} is left aligned\".format(\"Apple\"))\n",
    "print(\"{:<5} is left aligned\".format(\"Apple\"))\n",
    "print(\"{:<6} is left aligned\".format(\"Apple\"))\n",
    "print(\"{:<7} is left aligned\".format(\"Apple\"))\n",
    "print(\"{:<10} is left aligned\".format(\"Apple\"))\n",
    "print(\"{:>10} is right aligned\".format(\"Banana\"))\n",
    "print(\"{:^10} is centered aligned\".format(\"Orange\"))\n",
    "print(\"{:^20} is centered aligned\".format(\"Orange\"))\n",
    "\n",
    "number = 255\n",
    "print(\"Decimal {0:d}, Hex: {0:x}, Octal: {0:o}, Binary: {0:b}\".format(number))\n",
    "\n",
    "number = 1234.56789\n",
    "print(\"Fixed-point: {:.2f}\".format(number))\n",
    "print(\"Scientific: {:.2e}\".format(number))\n",
    "print(\"General: {:.2g}\".format(number))\n",
    "\n",
    "print(\"{:010.2f}\".format(12.345))\n",
    "print(\"{:020.2f}\".format(12.345))\n",
    "print(\"{:120.2f}\".format(12.345))\n",
    "print(\"{:220.2f}\".format(12.345))\n",
    "print(\"{:020.2f}\".format(12.345))\n",
    "print(\"{:021.2f}\".format(12.345))\n",
    "print(\"{:320.4f}\".format(12.345))\n",
    "\n",
    "name = \"Alice\"\n",
    "age = 30\n",
    "print(\"My name is %s and I am %d years old.\" % (name, age))\n",
    "\n",
    "name = \"Alice\"\n",
    "age = 30\n",
    "print(f\"My name is {name} and I am {age} years old.\")\n",
    "\n",
    "number = 12.3456\n",
    "print(f\"Formatted number: {number:.2f}\")\n"
   ],
   "id": "1a99b5dad3bac949",
   "outputs": [
    {
     "name": "stdout",
     "output_type": "stream",
     "text": [
      "Sum without tax: £12.57\n",
      "Sum without tax: £15.00\n",
      "My name is Alice and I am 30 years old.\n",
      "Item Banana costs £12.35\n",
      "The price of Apple is £1.23\n",
      "Apple is left aligned\n",
      "Apple is left aligned\n",
      "Apple  is left aligned\n",
      "Apple   is left aligned\n",
      "Apple      is left aligned\n",
      "    Banana is right aligned\n",
      "  Orange   is centered aligned\n",
      "       Orange        is centered aligned\n",
      "Decimal 255, Hex: ff, Octal: 377, Binary: 11111111\n",
      "Fixed-point: 1234.57\n",
      "Scientific: 1.23e+03\n",
      "General: 1.2e+03\n",
      "0000012.35\n",
      "00000000000000012.35\n",
      "                                                                                                                   12.35\n",
      "                                                                                                                                                                                                                       12.35\n",
      "00000000000000012.35\n",
      "000000000000000012.35\n",
      "                                                                                                                                                                                                                                                                                                                         12.3450\n",
      "My name is Alice and I am 30 years old.\n",
      "My name is Alice and I am 30 years old.\n",
      "Formatted number: 12.35\n"
     ]
    }
   ],
   "execution_count": 43
  }
 ],
 "metadata": {
  "kernelspec": {
   "display_name": "Python 3",
   "language": "python",
   "name": "python3"
  },
  "language_info": {
   "codemirror_mode": {
    "name": "ipython",
    "version": 2
   },
   "file_extension": ".py",
   "mimetype": "text/x-python",
   "name": "python",
   "nbconvert_exporter": "python",
   "pygments_lexer": "ipython2",
   "version": "2.7.6"
  }
 },
 "nbformat": 4,
 "nbformat_minor": 5
}
