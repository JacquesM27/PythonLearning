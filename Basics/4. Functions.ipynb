{
 "cells": [
  {
   "metadata": {},
   "cell_type": "markdown",
   "source": [
    "# Functions\n",
    "\n",
    "## Defining Functions\n",
    "- Functions allow us to program a block of code that only runs when called.\n",
    "- This means we can avoid having to redefine the same operations when performing them multiple times.\n",
    "\n",
    "### Key Terms:\n",
    "- A function takes in parameters and returns output.\n",
    "- The value passed as a parameter is called an argument.\n",
    "- A function bound to an object is called a method.\n",
    "- An instance of a function is called a function call.\n",
    "- The basic syntax of a function is as follows:"
   ],
   "id": "66f7c90595b31774"
  },
  {
   "metadata": {
    "collapsed": true,
    "ExecuteTime": {
     "end_time": "2024-10-23T19:17:15.212759Z",
     "start_time": "2024-10-23T19:17:15.204933Z"
    }
   },
   "cell_type": "code",
   "source": [
    "# Function definition\n",
    "def function_name(param1, param2=1):\n",
    "    \"\"\"\n",
    "    DOCSTRING: Explains the function.\n",
    "    INPUT: param1 (str)\n",
    "    OUTPUT: Hello + param1 (str)\n",
    "    \"\"\"\n",
    "    # Code to execute\n",
    "    return \"Hello \" + param1\n",
    "\n",
    "\n",
    "function_name(\"there\")"
   ],
   "id": "initial_id",
   "outputs": [
    {
     "data": {
      "text/plain": [
       "'Hello there'"
      ]
     },
     "execution_count": 1,
     "metadata": {},
     "output_type": "execute_result"
    }
   ],
   "execution_count": 1
  },
  {
   "metadata": {},
   "cell_type": "markdown",
   "source": [
    "## Function Syntax Breakdown:\n",
    " - The keyword def shows Python that you are about to define a function.\n",
    " - function_name is the name of the function, and should be descriptive, in lowercase, separated by underscores. Avoid using built-in keywords (as outlined in PEP8).\n",
    " - Parameters are defined in parentheses.\n",
    " - Default arguments are parameters that have a default value, like param2=1. If no argument is provided when calling the function, it will default to the assigned value."
   ],
   "id": "e586f9f966db61c"
  },
  {
   "metadata": {
    "ExecuteTime": {
     "end_time": "2024-10-23T19:18:40.866974Z",
     "start_time": "2024-10-23T19:18:40.863429Z"
    }
   },
   "cell_type": "code",
   "source": [
    "# Example of a function with a default argument\n",
    "def greet(name, age=18):\n",
    "    return f\"Hello {name}, you are {age} years old!\"\n",
    "\n",
    "# Function call with both arguments\n",
    "print(greet(\"Alice\", 25))\n",
    "\n",
    "# Function call using the default age\n",
    "print(greet(\"Bob\"))\n"
   ],
   "id": "a03428f48908d29a",
   "outputs": [
    {
     "name": "stdout",
     "output_type": "stream",
     "text": [
      "Hello Alice, you are 25 years old!\n",
      "Hello Bob, you are 18 years old!\n"
     ]
    }
   ],
   "execution_count": 2
  },
  {
   "metadata": {},
   "cell_type": "markdown",
   "source": [
    "## Recursion\n",
    " - Recursion is when a function calls itself within its own definition. It's useful for tasks that can be broken down into simpler sub-tasks. The classic example is calculating a factorial.\n",
    "\n",
    "## Key Concepts of Recursion:\n",
    "- Base Case: The condition where the function stops calling itself (in this case, when n == 0).\n",
    "- Recursive Case: Where the function continues to call itself with a different argument (here, countdown(n-1)).\n"
   ],
   "id": "61072bf45b42cb4d"
  },
  {
   "metadata": {
    "ExecuteTime": {
     "end_time": "2024-10-23T19:19:19.883259Z",
     "start_time": "2024-10-23T19:19:19.879619Z"
    }
   },
   "cell_type": "code",
   "source": [
    "# Function that counts down recursively\n",
    "def countdown(n):\n",
    "    # Base case: where the function stops\n",
    "    if n == 0:\n",
    "        print(0)\n",
    "    else:\n",
    "        # Print the countdown number\n",
    "        print(n)\n",
    "        # Call the function with a reduced number\n",
    "        countdown(n - 1)\n",
    "\n",
    "# Calling the countdown function with n=5\n",
    "countdown(5)\n"
   ],
   "id": "65fd3e4dbd8aea04",
   "outputs": [
    {
     "name": "stdout",
     "output_type": "stream",
     "text": [
      "5\n",
      "4\n",
      "3\n",
      "2\n",
      "1\n",
      "0\n"
     ]
    }
   ],
   "execution_count": 3
  },
  {
   "metadata": {
    "ExecuteTime": {
     "end_time": "2024-10-23T19:22:38.350091Z",
     "start_time": "2024-10-23T19:22:38.346126Z"
    }
   },
   "cell_type": "code",
   "source": [
    "# Define a recursive function named `num_fact` to calculate the factorial of a given number.\n",
    "# Recursive function to calculate factorial\n",
    "def num_fact(n):\n",
    "    if n == 1:\n",
    "        return 1\n",
    "    else:\n",
    "        return n * num_fact(n - 1)\n",
    "\n",
    "# Testing the factorial function with n=6\n",
    "num_fact(6)\n"
   ],
   "id": "7f0d39f493055ae4",
   "outputs": [
    {
     "data": {
      "text/plain": [
       "720"
      ]
     },
     "execution_count": 9,
     "metadata": {},
     "output_type": "execute_result"
    }
   ],
   "execution_count": 9
  },
  {
   "metadata": {},
   "cell_type": "markdown",
   "source": [
    "## help()\n",
    "- We can use `help()` to find documentation if we don't know what the function does."
   ],
   "id": "c3c18592d5fc7e3e"
  },
  {
   "metadata": {
    "ExecuteTime": {
     "end_time": "2024-10-23T19:27:10.232139Z",
     "start_time": "2024-10-23T19:27:10.227047Z"
    }
   },
   "cell_type": "code",
   "source": [
    "def hello():\n",
    "    print(\"Hello\")\n",
    "\n",
    "help(hello)\n",
    "help(num_fact)\n",
    "help(print)"
   ],
   "id": "f9b3942fb2ff83c6",
   "outputs": [
    {
     "name": "stdout",
     "output_type": "stream",
     "text": [
      "Help on function hello in module __main__:\n",
      "\n",
      "hello()\n",
      "\n",
      "Help on function num_fact in module __main__:\n",
      "\n",
      "num_fact(n)\n",
      "    # Define a recursive function named `num_fact` to calculate the factorial of a given number.\n",
      "    # Recursive function to calculate factorial\n",
      "\n",
      "Help on built-in function print in module builtins:\n",
      "\n",
      "print(*args, sep=' ', end='\\n', file=None, flush=False)\n",
      "    Prints the values to a stream, or to sys.stdout by default.\n",
      "\n",
      "    sep\n",
      "      string inserted between values, default a space.\n",
      "    end\n",
      "      string appended after the last value, default a newline.\n",
      "    file\n",
      "      a file-like object (stream); defaults to the current sys.stdout.\n",
      "    flush\n",
      "      whether to forcibly flush the stream.\n",
      "\n"
     ]
    }
   ],
   "execution_count": 12
  },
  {
   "metadata": {},
   "cell_type": "markdown",
   "source": "## Exercises",
   "id": "28f8138421883e4a"
  },
  {
   "metadata": {
    "ExecuteTime": {
     "end_time": "2024-10-23T19:31:09.436395Z",
     "start_time": "2024-10-23T19:31:09.432755Z"
    }
   },
   "cell_type": "code",
   "source": [
    "def check_range(x: int, y: int, z: int):\n",
    "    return y < x < z\n",
    "\n",
    "print(check_range(1, 2, 3))\n",
    "print(check_range(7,2,5))\n",
    "print(check_range(10,1,11))\n",
    "\n",
    "my_list = [1,3,5,6,4,3,2,3,3,4,3,4,5,6,6,4,3,2,12,3,5,63,4,5,3,3,2]\n",
    "\n",
    "def unique_list(some_list):\n",
    "    return list(set(some_list))\n",
    "\n",
    "print(unique_list(my_list))"
   ],
   "id": "7b4957dde2ef3a85",
   "outputs": [
    {
     "name": "stdout",
     "output_type": "stream",
     "text": [
      "False\n",
      "False\n",
      "True\n",
      "[1, 2, 3, 4, 5, 6, 12, 63]\n"
     ]
    }
   ],
   "execution_count": 16
  },
  {
   "metadata": {
    "ExecuteTime": {
     "end_time": "2024-10-23T19:35:43.641986Z",
     "start_time": "2024-10-23T19:35:43.637592Z"
    }
   },
   "cell_type": "code",
   "source": [
    "import math\n",
    "\n",
    "def sphere_volume(radius):\n",
    "    volume = (4/3) * math.pi * radius**3\n",
    "    return volume\n",
    "\n",
    "print(sphere_volume(2))"
   ],
   "id": "3ccaee751de96ed9",
   "outputs": [
    {
     "name": "stdout",
     "output_type": "stream",
     "text": [
      "33.510321638291124\n"
     ]
    }
   ],
   "execution_count": 17
  }
 ],
 "metadata": {
  "kernelspec": {
   "display_name": "Python 3",
   "language": "python",
   "name": "python3"
  },
  "language_info": {
   "codemirror_mode": {
    "name": "ipython",
    "version": 2
   },
   "file_extension": ".py",
   "mimetype": "text/x-python",
   "name": "python",
   "nbconvert_exporter": "python",
   "pygments_lexer": "ipython2",
   "version": "2.7.6"
  }
 },
 "nbformat": 4,
 "nbformat_minor": 5
}
