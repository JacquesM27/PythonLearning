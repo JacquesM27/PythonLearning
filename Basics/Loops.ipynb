{
 "cells": [
  {
   "metadata": {},
   "cell_type": "markdown",
   "source": [
    "# Loops in python\n",
    "Types of loops in Python:\n",
    " - For loop - used to iterate over sequences (such as lists, tuples, strings) and other iterable objects.\n",
    " - While loop - executes code as long as the condition is true.\n",
    "\n",
    "## For loop\n",
    "The for loop in Python iterates over the elements of iterable objects, such as lists, tuples, strings or collections. For each element, it executes a loop body."
   ],
   "id": "1083219165099a7f"
  },
  {
   "metadata": {
    "collapsed": true
   },
   "cell_type": "code",
   "source": [
    "# Example 1: Iterating over a list\n",
    "fruits = [\"apple\", \"banana\", \"cherry\"]\n",
    "for fruit in fruits:\n",
    "    print(fruit)\n",
    "    \n",
    "print()\n",
    "# Example 2: Iterating over a string\n",
    "for char in \"hello\":\n",
    "    print(char)\n",
    "    \n",
    "print()    \n",
    "# Example 3: Using range() in a for loop\n",
    "for i in range(5):\n",
    "    print(i)"
   ],
   "id": "initial_id",
   "outputs": [],
   "execution_count": null
  },
  {
   "metadata": {},
   "cell_type": "markdown",
   "source": [
    "## While loop\n",
    "The while loop in Python executes the loop body as long as the condition is true. If the condition is never met, the loop can be infinite"
   ],
   "id": "56baa6dce2f724e9"
  },
  {
   "metadata": {},
   "cell_type": "code",
   "source": [
    "# Example 1: Simple while loop\n",
    "count = 0\n",
    "while count < 5:\n",
    "    print(count)\n",
    "    count += 1\n",
    "    \n",
    "print()\n",
    "flag = True\n",
    "while flag:\n",
    "    print(\"Looping...\")\n",
    "    flag = False\n",
    "    \n"
   ],
   "id": "3073cdd74cd7b875",
   "outputs": [],
   "execution_count": null
  },
  {
   "metadata": {},
   "cell_type": "markdown",
   "source": [
    "## Additional instructions in loops\n",
    " - **break** - interrupts the loop and ends its execution.\n",
    " - **continue** - skips the current iteration and moves to the next iteration.\n",
    " - **else** - a block of else code in a loop is executed after the loop ends, unless the loop is interrupted by break.\n",
    " - **pass** - do nothing"
   ],
   "id": "796ec3b5aee84e14"
  },
  {
   "metadata": {
    "ExecuteTime": {
     "end_time": "2024-10-17T16:58:03.878798Z",
     "start_time": "2024-10-17T16:58:03.874829Z"
    }
   },
   "cell_type": "code",
   "source": [
    "# Example 1: Using break to exit the loop\n",
    "for i in range(5):\n",
    "    if i == 3:\n",
    "        break\n",
    "    print(i)\n",
    "    \n",
    "print()\n",
    "\n",
    "# Example 2: Using continue to skip an iteration\n",
    "for i in range(5):\n",
    "    if i == 3:\n",
    "        continue\n",
    "    print(i)\n",
    "    \n",
    "print()\n",
    "\n",
    "# Example 3: Using else with a for loop\n",
    "for i in range(5):\n",
    "    print(i)\n",
    "else:\n",
    "    print(\"Loop completed successfully\")\n",
    "    \n",
    "print()\n",
    "# Example: Using pass in a loop\n",
    "numbers = [1, 2, 3, 4, 5]\n",
    "\n",
    "for num in numbers:\n",
    "    if num % 2 == 0:\n",
    "        # This is a placeholder, we do nothing for even numbers\n",
    "        pass\n",
    "    else:\n",
    "        print(f\"{num} is an odd number.\")"
   ],
   "id": "715201ee86a144a0",
   "outputs": [
    {
     "name": "stdout",
     "output_type": "stream",
     "text": [
      "0\n",
      "1\n",
      "2\n",
      "\n",
      "0\n",
      "1\n",
      "2\n",
      "4\n",
      "\n",
      "0\n",
      "1\n",
      "2\n",
      "3\n",
      "4\n",
      "Loop completed successfully\n",
      "\n",
      "1 is an odd number.\n",
      "3 is an odd number.\n",
      "5 is an odd number.\n"
     ]
    }
   ],
   "execution_count": 22
  },
  {
   "metadata": {},
   "cell_type": "markdown",
   "source": [
    "## Nested loop\n",
    "Loops can be nested, meaning one loop can be placed inside another loop."
   ],
   "id": "39e707f68820da60"
  },
  {
   "metadata": {},
   "cell_type": "code",
   "source": [
    "# Nested for loop\n",
    "for i in range(3):\n",
    "    for j in range(2):\n",
    "        print(f\"i = {i}, j = {j}\")"
   ],
   "id": "64afa28b18ebed3e",
   "outputs": [],
   "execution_count": null
  },
  {
   "metadata": {},
   "cell_type": "markdown",
   "source": "## Extra info with ranges",
   "id": "cc5f866be4b93c0f"
  },
  {
   "metadata": {},
   "cell_type": "code",
   "source": [
    "for i in range(5,20,2):\n",
    "    print(i)\n",
    "    \n",
    "print()\n",
    "\n",
    "print(list(range(3)))\n",
    "print()\n",
    "print(list(range(5,20)))\n",
    "print()\n",
    "print(list(range(5,10,2)))\n",
    "print()\n",
    "\n",
    "items = [\"hat\", \"boots\", \"jacket\", \"gloves\"]\n",
    "\n",
    "for i in range(len(items)):\n",
    "    items[i] = items[i].upper()\n",
    "\n",
    "print(items)"
   ],
   "id": "a47c0b64a85347b0",
   "outputs": [],
   "execution_count": null
  },
  {
   "metadata": {},
   "cell_type": "markdown",
   "source": [
    "## For with dictionaries\n",
    "In Python, we can iterate over dictionaries in two ways:\n",
    " - By iterating through the dictionary keys using the .keys() method .\n",
    " - By using tuple unpacking in a for loop when iterating through .items(), which allows us to operate on both keys and values in a single step.\n",
    "The second method gives us more flexibility, as it allows easy access to both keys and values."
   ],
   "id": "2f9b885413ec8633"
  },
  {
   "metadata": {
    "ExecuteTime": {
     "end_time": "2024-10-17T16:50:56.906697Z",
     "start_time": "2024-10-17T16:50:56.902290Z"
    }
   },
   "cell_type": "code",
   "source": [
    "# Example 1: Iterating over dictionary keys\n",
    "prices = {\"tomato\": 0.87, \"sugar\": 1.09, \"sponges\": 0.29, \"juice\": 1.89, \"foil\": 1.29}\n",
    "\n",
    "# Initialize empty lists to store keys and values\n",
    "code_list = []\n",
    "price_list = []\n",
    "\n",
    "# Iterate over keys and use them to access values\n",
    "for key in prices.keys():\n",
    "    code_list.append(key)\n",
    "    price_list.append(prices[key])\n",
    "\n",
    "print(code_list)\n",
    "print(price_list)\n",
    "\n",
    "# Example 2: Iterating over dictionary items (key-value pairs)\n",
    "prices = {\"tomato\": 0.87, \"sugar\": 1.09, \"sponges\": 0.29, \"juice\": 1.89, \"foil\": 1.29}\n",
    "\n",
    "# Initialize empty lists to store keys and values\n",
    "code_list = []\n",
    "price_list = []\n",
    "\n",
    "# Iterate over key-value pairs and unpack them in the loop\n",
    "for key, value in prices.items():\n",
    "    code_list.append(key)\n",
    "    price_list.append(value)\n",
    "\n",
    "print(code_list)\n",
    "print(price_list)\n",
    "print()\n",
    "\n",
    "prices = {\"tomato\": 0.87, \"sugar\": 1.09, \"sponges\": 0.29, \"juice\": 1.89, \"foil\": 1.29}\n",
    "\n",
    "# Iterate over dictionary and format output\n",
    "for key, value in prices.items():\n",
    "    print(\"Item Code: {}\\nPrice: £{}\".format(key, value))"
   ],
   "id": "b906c0383b34f693",
   "outputs": [
    {
     "name": "stdout",
     "output_type": "stream",
     "text": [
      "['tomato', 'sugar', 'sponges', 'juice', 'foil']\n",
      "[0.87, 1.09, 0.29, 1.89, 1.29]\n",
      "['tomato', 'sugar', 'sponges', 'juice', 'foil']\n",
      "[0.87, 1.09, 0.29, 1.89, 1.29]\n",
      "\n",
      "Item Code: tomato\n",
      "Price: £0.87\n",
      "Item Code: sugar\n",
      "Price: £1.09\n",
      "Item Code: sponges\n",
      "Price: £0.29\n",
      "Item Code: juice\n",
      "Price: £1.89\n",
      "Item Code: foil\n",
      "Price: £1.29\n"
     ]
    }
   ],
   "execution_count": 18
  },
  {
   "metadata": {},
   "cell_type": "markdown",
   "source": [
    "## If instructions in for loops\n",
    "Conditional `if` statements can be used in `for` loops , to perform different operations depending on the conditions met.\n",
    "### Example: BMI calculator\n",
    "In this example, we show how to use `for` loops , `if` statements and unpacking tuples to calculate and classify BMI values. The height and weight data are stored in a list of tuples, and the BMI is calculated for each person."
   ],
   "id": "3b879a1ec8731f25"
  },
  {
   "metadata": {
    "ExecuteTime": {
     "end_time": "2024-10-17T16:53:17.679370Z",
     "start_time": "2024-10-17T16:53:17.674893Z"
    }
   },
   "cell_type": "code",
   "source": [
    "# List of (height, weight) pairs\n",
    "heights_weights = [(1.83, 85), (1.55, 61), (2.09, 135), (1.71, 70), (1.71, 95), (1.71, 55)]\n",
    "\n",
    "# Empty list to store BMI values\n",
    "bmis = []\n",
    "\n",
    "# Calculate BMI for each person\n",
    "for height, weight in heights_weights:\n",
    "    bmis.append(weight / height**2)\n",
    "\n",
    "# Output intermediate list of BMIs\n",
    "print(\"This is the list of BMIs: {}\\n\".format(bmis))\n",
    "\n",
    "# Classify each BMI value\n",
    "for bmi in bmis:\n",
    "    if bmi < 18.5:\n",
    "        print(\"You're in the underweight range. Your BMI is {:3.1f}.\".format(bmi))\n",
    "    elif bmi <= 24.9:\n",
    "        print(\"You're in the healthy weight range. Your BMI is {:3.1f}.\".format(bmi))\n",
    "    elif bmi <= 29.9:\n",
    "        print(\"You're in the overweight range. Your BMI is {:3.1f}.\".format(bmi))\n",
    "    elif bmi <= 39.9:\n",
    "        print(\"You're in the obese range. Your BMI is {:3.1f}.\".format(bmi))\n"
   ],
   "id": "2674b2255375eb92",
   "outputs": [
    {
     "name": "stdout",
     "output_type": "stream",
     "text": [
      "This is the list of BMIs: [25.381468541909282, 25.390218522372525, 30.905885854261584, 23.938989774631512, 32.488628979857054, 18.80920625149619]\n",
      "\n",
      "You're in the overweight range. Your BMI is 25.4.\n",
      "You're in the overweight range. Your BMI is 25.4.\n",
      "You're in the obese range. Your BMI is 30.9.\n",
      "You're in the healthy weight range. Your BMI is 23.9.\n",
      "You're in the obese range. Your BMI is 32.5.\n",
      "You're in the healthy weight range. Your BMI is 18.8.\n"
     ]
    }
   ],
   "execution_count": 19
  },
  {
   "metadata": {
    "ExecuteTime": {
     "end_time": "2024-10-17T16:54:44.543264Z",
     "start_time": "2024-10-17T16:54:44.536321Z"
    }
   },
   "cell_type": "code",
   "source": [
    "# List of (height, weight) pairs\n",
    "heights_weights = [(1.83, 85), (1.55, 61), (2.09, 135), (1.71, 70), (1.71, 95), (1.71, 55)]\n",
    "\n",
    "# Loop through heights and weights, calculate BMI, and classify it\n",
    "for height, weight in heights_weights:\n",
    "    bmi = weight / height**2  # Calculate BMI\n",
    "\n",
    "    if bmi < 18.5:\n",
    "        print(\"You're in the underweight range. Your BMI is {:3.1f}\".format(bmi))\n",
    "    elif bmi <= 24.9:\n",
    "        print(\"You're in the healthy weight range. Your BMI is {:3.1f}\".format(bmi))\n",
    "    elif bmi <= 29.9:\n",
    "        print(\"You're in the overweight range. Your BMI is {:3.1f}\".format(bmi))\n",
    "    elif bmi <= 39.9:\n",
    "        print(\"You're in the obese range. Your BMI is {:3.1f}\".format(bmi))\n"
   ],
   "id": "966529816a9c5e68",
   "outputs": [
    {
     "name": "stdout",
     "output_type": "stream",
     "text": [
      "You're in the overweight range. Your BMI is 25.4\n",
      "You're in the overweight range. Your BMI is 25.4\n",
      "You're in the obese range. Your BMI is 30.9\n",
      "You're in the healthy weight range. Your BMI is 23.9\n",
      "You're in the obese range. Your BMI is 32.5\n",
      "You're in the healthy weight range. Your BMI is 18.8\n"
     ]
    }
   ],
   "execution_count": 20
  },
  {
   "metadata": {},
   "cell_type": "markdown",
   "source": "### Exercises",
   "id": "c77c171cf7d9042"
  },
  {
   "metadata": {
    "ExecuteTime": {
     "end_time": "2024-10-17T17:04:57.969885Z",
     "start_time": "2024-10-17T17:04:57.964273Z"
    }
   },
   "cell_type": "code",
   "source": [
    "count_odd = 0\n",
    "count_even = 0\n",
    "\n",
    "# Loop through the list of numbers\n",
    "for num in range(100):\n",
    "    if num % 2 == 0:\n",
    "        count_even += 1  # Increment even counter\n",
    "    else:\n",
    "        count_odd += 1   # Increment odd counter\n",
    "\n",
    "print(\"Number of Even Numbers: {}\".format(count_even))  # Output: 5\n",
    "print(\"Number of Odd Numbers: {}\".format(count_odd))    # Output: 5\n",
    "print()\n",
    "\n",
    "order_list = [(\"tom\", 0.87, 4), \n",
    "              (\"sug\", 1.09, 3), \n",
    "              (\"ws\", 0.29, 4), \n",
    "              (\"juc\", 1.89, 1), \n",
    "              (\"fo\", 1.29, 2)]\n",
    "\n",
    "names = {\"tom\": \"Tomatoes\", \n",
    "         \"sug\": \"Sugar\", \n",
    "         \"ws\": \"Washing Sponges\", \n",
    "         \"juc\": \"Juice\", \n",
    "         \"fo\": \"Foil\"}\n",
    "\n",
    "budget = 10.00\n",
    "running_total = 0\n",
    "receipt = []\n",
    "total_order_price = 0\n",
    "\n",
    "# Loop through the order list and calculate total cost\n",
    "for item_code, price, quantity in order_list:\n",
    "    item_total = price * quantity\n",
    "    \n",
    "    # Check if we can add the item to the order without exceeding the budget\n",
    "    if running_total + item_total <= budget:\n",
    "        running_total += item_total\n",
    "        receipt.append(names[item_code])  # Add item name to receipt\n",
    "    total_order_price += item_total\n",
    "\n",
    "# Print the results\n",
    "print(\"The total for the order is: £{:5.2f}\".format(running_total))  # Output: The total for the order is: £9.77\n",
    "print(\"The items in the order are: {}\".format(receipt))  # Output: ['Tomatoes', 'Sugar', 'Washing Sponges', 'Foil']\n",
    "print(\"The remaining budget is: £{:5.2f}\".format(budget - running_total))  # Output: £0.23\n",
    "print(\"The total order price is: £{:5.2f}\".format(total_order_price))\n"
   ],
   "id": "1fbd50d1cbf489d0",
   "outputs": [
    {
     "name": "stdout",
     "output_type": "stream",
     "text": [
      "Number of Even Numbers: 50\n",
      "Number of Odd Numbers: 50\n",
      "\n",
      "The total for the order is: £ 9.80\n",
      "The items in the order are: ['Tomatoes', 'Sugar', 'Washing Sponges', 'Juice']\n",
      "The remaining budget is: £ 0.20\n",
      "The total order price is: £12.38\n"
     ]
    }
   ],
   "execution_count": 25
  },
  {
   "metadata": {},
   "cell_type": "markdown",
   "source": [
    "## Zip and Enumerate in\n",
    "`zip()`\n",
    "\n",
    "The `zip()` function combines elements from two (or more) iterable objects to form tuples. It returns a zip object , which is an iterable. To view or use it, convert it to a list, a tuple or pass through it in a loop.\n",
    "You can extract the elements of a zip object , using the `*` operator inside a call to `zip()`.\n",
    "\n",
    "`enumerate()`\n",
    "\n",
    "The `enumerate()` function returns an iterator that generates tuples with indices and corresponding elements from the iterable object.\n",
    "This is useful when you want to simultaneously work on indexes and element values while iterating."
   ],
   "id": "f045b6be3ac37e32"
  },
  {
   "metadata": {
    "ExecuteTime": {
     "end_time": "2024-10-17T17:22:34.147059Z",
     "start_time": "2024-10-17T17:22:34.141177Z"
    }
   },
   "cell_type": "code",
   "source": [
    "items = [\"tomato\", \"sugar\", \"sponges\", \"juice\", \"foil\"]\n",
    "prices = [0.87, 1.09, 0.29, 1.89, 1.29]\n",
    "\n",
    "items_and_prices = zip(items, prices)\n",
    "\n",
    "# list conversion to show result\n",
    "print(list(items_and_prices))\n",
    "\n",
    "# zip removes last item\n",
    "amounts = [1,2,3,4,5,6]\n",
    "\n",
    "items_prices_amount = zip(items, prices, amounts)\n",
    "print(list(items_prices_amount))\n",
    "\n",
    "for item, price, amount in zip(items, prices, amounts):\n",
    "    print(item, price, amount)\n",
    "\n",
    "print()\n",
    "\n",
    "items_and_prices = zip(items, prices)\n",
    "\n",
    "# Unzip a zip object into two tuples\n",
    "tuple_of_items, tuple_of_prices = zip(*items_and_prices)\n",
    "print(tuple_of_items)\n",
    "print(tuple_of_prices)\n",
    "\n",
    "print()\n",
    "for item, price in zip(items, prices):\n",
    "    print(\"The price of {} is £{}\".format(item, price))\n",
    "\n",
    "print()\n",
    "items = [\"hat\", \"scarf\", \"coat\", \"gloves\"]\n",
    "\n",
    "for index, item in enumerate(items):\n",
    "    print(index, item)\n",
    "\n",
    "print()\n",
    "print(tuple(enumerate(items)))\n",
    "\n"
   ],
   "id": "ab97e20523a05e5e",
   "outputs": [
    {
     "name": "stdout",
     "output_type": "stream",
     "text": [
      "[('tomato', 0.87), ('sugar', 1.09), ('sponges', 0.29), ('juice', 1.89), ('foil', 1.29)]\n",
      "[('tomato', 0.87, 1), ('sugar', 1.09, 2), ('sponges', 0.29, 3), ('juice', 1.89, 4), ('foil', 1.29, 5)]\n",
      "tomato 0.87 1\n",
      "sugar 1.09 2\n",
      "sponges 0.29 3\n",
      "juice 1.89 4\n",
      "foil 1.29 5\n",
      "\n",
      "('tomato', 'sugar', 'sponges', 'juice', 'foil')\n",
      "(0.87, 1.09, 0.29, 1.89, 1.29)\n",
      "\n",
      "The price of tomato is £0.87\n",
      "The price of sugar is £1.09\n",
      "The price of sponges is £0.29\n",
      "The price of juice is £1.89\n",
      "The price of foil is £1.29\n",
      "\n",
      "0 hat\n",
      "1 scarf\n",
      "2 coat\n",
      "3 gloves\n",
      "\n",
      "((0, 'hat'), (1, 'scarf'), (2, 'coat'), (3, 'gloves'))\n"
     ]
    }
   ],
   "execution_count": 34
  },
  {
   "metadata": {},
   "cell_type": "markdown",
   "source": [
    "## List Comprehensions\n",
    "List comprehensions are a convenient and readable way to create lists based on existing iterable objects. They allow you to create new lists using for loops and conditions in a single line of code."
   ],
   "id": "6ca0c44b147e59fa"
  },
  {
   "metadata": {
    "ExecuteTime": {
     "end_time": "2024-10-17T17:24:32.268490Z",
     "start_time": "2024-10-17T17:24:32.263959Z"
    }
   },
   "cell_type": "code",
   "source": [
    "# List comprehension to create a list of square numbers\n",
    "squares = [x**2 for x in range(1,6)]\n",
    "print(squares)"
   ],
   "id": "b7a8cb888a0cbed3",
   "outputs": [
    {
     "name": "stdout",
     "output_type": "stream",
     "text": [
      "[1, 4, 9, 16, 25]\n"
     ]
    }
   ],
   "execution_count": 35
  },
  {
   "metadata": {},
   "cell_type": "markdown",
   "source": [
    "## List Comprehensions with conditions\n",
    "List comprehensions allow us not only to iterate and create new lists, but also to add conditions (`if`) that decide what items will be added to the new list. We can also use the `if-else` construct inside list comprehensions to assign different values depending on the condition.\n",
    "\n",
    "List comprehensions with conditional conditions can quickly become overly complicated and unreadable, and give a false sense of security about the programmer's skills."
   ],
   "id": "42c63e6bf1e33a58"
  },
  {
   "metadata": {
    "ExecuteTime": {
     "end_time": "2024-10-17T17:33:23.817959Z",
     "start_time": "2024-10-17T17:33:23.813887Z"
    }
   },
   "cell_type": "code",
   "source": [
    "# List comprehension: Only even numbers\n",
    "even_numbers = [x for x in range(1, 11) if x % 2 == 0]\n",
    "print(even_numbers)\n",
    "print()\n",
    "\n",
    "# List comprehension: squares for even numbers, others unchanged\n",
    "numbers = [x**2 if x % 2 == 0 else x for x in range(1, 11)]\n",
    "print(numbers)\n",
    "\n",
    "print()\n",
    "# List comprehension: even numbers greater than 5\n",
    "filtered_numbers = [x for x in range(1,11) if x % 2 == 0 and x > 5]\n",
    "print(filtered_numbers)\n",
    "\n",
    "# Nested list comprehension: products less than 25\n",
    "products = [x * y for x in range(1,6) for y in range(1,6) if x * y < 25]\n",
    "print(products)"
   ],
   "id": "afbdf111d82349ec",
   "outputs": [
    {
     "name": "stdout",
     "output_type": "stream",
     "text": [
      "[2, 4, 6, 8, 10]\n",
      "\n",
      "[1, 4, 3, 16, 5, 36, 7, 64, 9, 100]\n",
      "\n",
      "[6, 8, 10]\n",
      "[1, 2, 3, 4, 5, 2, 4, 6, 8, 10, 3, 6, 9, 12, 15, 4, 8, 12, 16, 20, 5, 10, 15, 20]\n"
     ]
    }
   ],
   "execution_count": 41
  },
  {
   "metadata": {},
   "cell_type": "markdown",
   "source": "## Exercises",
   "id": "de671989f87a72b1"
  },
  {
   "metadata": {
    "ExecuteTime": {
     "end_time": "2024-10-17T17:39:25.801669Z",
     "start_time": "2024-10-17T17:39:25.796449Z"
    }
   },
   "cell_type": "code",
   "source": [
    "# List comprehension: it squares even numbers and adds 1 to odd numbers and then squares them\n",
    "my_list = [34, 52, 71, 39, 22, 73, 92]\n",
    "\n",
    "result = [x**2 if x % 2 == 0 else (x+1)**2 for x in my_list]\n",
    "print(result)\n",
    "\n",
    "print()\n",
    "# List comprehension: we select only those products whose price is above 1.00\n",
    "shop_dict = {\n",
    "    \"tom\": 0.87,\n",
    "    \"sug\": 1.09,\n",
    "    \"ws\": 0.29,\n",
    "    \"cc\": 1.89,\n",
    "    \"ccz\": 1.29\n",
    "}\n",
    "\n",
    "names_dict = {\n",
    "    \"tom\": \"Tomatoes\", \n",
    "    \"sug\": \"Sugar\", \n",
    "    \"ws\": \"Washing Sponges\", \n",
    "    \"cc\": \"Coca-Cola\", \n",
    "    \"ccz\": \"Coca-Cola Zero\"\n",
    "}\n",
    "\n",
    "filtered_shop = [names_dict[key] for key, value in shop_dict.items() if value > 1]\n",
    "print(filtered_shop)"
   ],
   "id": "35279c9a4eb89759",
   "outputs": [
    {
     "name": "stdout",
     "output_type": "stream",
     "text": [
      "[1156, 2704, 5184, 1600, 484, 5476, 8464]\n",
      "\n",
      "['Sugar', 'Coca-Cola', 'Coca-Cola Zero']\n"
     ]
    }
   ],
   "execution_count": 44
  }
 ],
 "metadata": {
  "kernelspec": {
   "display_name": "Python 3",
   "language": "python",
   "name": "python3"
  },
  "language_info": {
   "codemirror_mode": {
    "name": "ipython",
    "version": 2
   },
   "file_extension": ".py",
   "mimetype": "text/x-python",
   "name": "python",
   "nbconvert_exporter": "python",
   "pygments_lexer": "ipython2",
   "version": "2.7.6"
  }
 },
 "nbformat": 4,
 "nbformat_minor": 5
}
