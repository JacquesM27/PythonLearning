{
 "cells": [
  {
   "cell_type": "code",
   "id": "initial_id",
   "metadata": {
    "collapsed": true,
    "ExecuteTime": {
     "end_time": "2024-10-29T20:55:35.514944Z",
     "start_time": "2024-10-29T20:55:35.085295Z"
    }
   },
   "source": [
    "from operator import index\n",
    "\n",
    "import pandas as pd"
   ],
   "outputs": [],
   "execution_count": 2
  },
  {
   "metadata": {},
   "cell_type": "markdown",
   "source": "The Series object is a one-dimensional data structure, resembling a list, in which each value has an associated index.",
   "id": "6f742281c1c338a7"
  },
  {
   "metadata": {
    "ExecuteTime": {
     "end_time": "2024-10-29T20:55:36.428803Z",
     "start_time": "2024-10-29T20:55:36.381317Z"
    }
   },
   "cell_type": "code",
   "source": [
    "# Creating a Series from a list\n",
    "data = [10, 20, 30, 40]\n",
    "series = pd.Series(data)\n",
    "print(\"Series from a list:\\n\", series)\n",
    "\n",
    "# Creating a Series with custom index\n",
    "data_with_index = pd.Series(data, index=['a', 'b', 'c', 'd'])\n",
    "print(\"\\nSeries with custom index:\\n\", data_with_index)\n",
    "\n",
    "# Creating a Series from a dictionary\n",
    "data_dict = {'apple': 2, 'banana': 3, 'orange': 5}\n",
    "series_dict = pd.Series(data_dict)\n",
    "print(\"\\nSeries from dictionary:\\n\", series_dict)\n"
   ],
   "id": "43c884704f2c8bc9",
   "outputs": [
    {
     "name": "stdout",
     "output_type": "stream",
     "text": [
      "Series from a list:\n",
      " 0    10\n",
      "1    20\n",
      "2    30\n",
      "3    40\n",
      "dtype: int64\n",
      "\n",
      "Series with custom index:\n",
      " a    10\n",
      "b    20\n",
      "c    30\n",
      "d    40\n",
      "dtype: int64\n",
      "\n",
      "Series from dictionary:\n",
      " apple     2\n",
      "banana    3\n",
      "orange    5\n",
      "dtype: int64\n"
     ]
    }
   ],
   "execution_count": 3
  },
  {
   "metadata": {},
   "cell_type": "markdown",
   "source": "We can index the Series object just like a NumPy or dictionary array and perform arithmetic operations on it.",
   "id": "b6aa6ae95c6d6ce1"
  },
  {
   "metadata": {
    "ExecuteTime": {
     "end_time": "2024-10-29T20:56:35.901523Z",
     "start_time": "2024-10-29T20:56:35.895143Z"
    }
   },
   "cell_type": "code",
   "source": [
    "# Accessing values by index\n",
    "print(\"Value at index 'b':\", data_with_index['b'])\n",
    "\n",
    "# Fancy indexing\n",
    "print(\"\\nValues at multiple indices:\\n\", data_with_index[['a', 'c']])\n",
    "\n",
    "# Arithmetic operations\n",
    "series1 = pd.Series([1, 2, 3, 4], index=['a', 'b', 'c', 'd'])\n",
    "series2 = pd.Series([10, 20, 30, 40], index=['a', 'b', 'c', 'd'])\n",
    "\n",
    "# Addition\n",
    "print(\"\\nAddition of two Series:\\n\", series1 + series2)\n",
    "\n",
    "# Scalar operations\n",
    "print(\"\\nSeries multiplied by 2:\\n\", series * 2)\n"
   ],
   "id": "ad4f39e751c6e31",
   "outputs": [
    {
     "name": "stdout",
     "output_type": "stream",
     "text": [
      "Value at index 'b': 20\n",
      "\n",
      "Values at multiple indices:\n",
      " a    10\n",
      "c    30\n",
      "dtype: int64\n",
      "\n",
      "Addition of two Series:\n",
      " a    11\n",
      "b    22\n",
      "c    33\n",
      "d    44\n",
      "dtype: int64\n",
      "\n",
      "Series multiplied by 2:\n",
      " 0    20\n",
      "1    40\n",
      "2    60\n",
      "3    80\n",
      "dtype: int64\n"
     ]
    }
   ],
   "execution_count": 4
  },
  {
   "metadata": {},
   "cell_type": "markdown",
   "source": "A `DataFrame` object is a two-dimensional data structure, similar to a table. It can be created from various sources, such as dictionary lists, `NumPy` arrays , etc.",
   "id": "1a1ef747a338570a"
  },
  {
   "metadata": {
    "ExecuteTime": {
     "end_time": "2024-10-29T20:58:35.474784Z",
     "start_time": "2024-10-29T20:58:35.460076Z"
    }
   },
   "cell_type": "code",
   "source": [
    "# Creating DataFrame from dictionary\n",
    "data = {\n",
    "    'Name': ['Alice', 'Bob', 'Charlie'],\n",
    "    'Age': [24, 27, 22],\n",
    "    'City': ['New York', 'San Francisco', 'Los Angeles']\n",
    "}\n",
    "df = pd.DataFrame(data)\n",
    "print(\"DataFrame from dictionary:\\n\", df)\n",
    "\n",
    "# Creating DataFrame from list of dictionaries\n",
    "data_list = [\n",
    "    {'Name': 'Alice', 'Age': 24, 'City': 'New York'},\n",
    "    {'Name': 'Bob', 'Age': 27, 'City': 'San Francisco'},\n",
    "    {'Name': 'Charlie', 'Age': 22, 'City': 'Los Angeles'}\n",
    "]\n",
    "df_from_list = pd.DataFrame(data_list)\n",
    "print(\"\\nDataFrame from list of dictionaries:\\n\", df_from_list)\n",
    "\n",
    "# Creating DataFrame from NumPy array\n",
    "import numpy as np\n",
    "\n",
    "array_data = np.array([[1, 2], [3, 4], [5, 6]])\n",
    "df_from_array = pd.DataFrame(array_data, columns=['Column1', 'Column2'])\n",
    "print(\"\\nDataFrame from NumPy array:\\n\", df_from_array)\n"
   ],
   "id": "f460e77625c911db",
   "outputs": [
    {
     "name": "stdout",
     "output_type": "stream",
     "text": [
      "DataFrame from dictionary:\n",
      "       Name  Age           City\n",
      "0    Alice   24       New York\n",
      "1      Bob   27  San Francisco\n",
      "2  Charlie   22    Los Angeles\n",
      "\n",
      "DataFrame from list of dictionaries:\n",
      "       Name  Age           City\n",
      "0    Alice   24       New York\n",
      "1      Bob   27  San Francisco\n",
      "2  Charlie   22    Los Angeles\n",
      "\n",
      "DataFrame from NumPy array:\n",
      "    Column1  Column2\n",
      "0        1        2\n",
      "1        3        4\n",
      "2        5        6\n"
     ]
    }
   ],
   "execution_count": 5
  },
  {
   "metadata": {},
   "cell_type": "markdown",
   "source": "We can refer to `DataFrame` columns and rows through `.loc[]`, `.iloc[]`, and directly through column names.\n",
   "id": "a9ad3a341c50f8a8"
  },
  {
   "metadata": {
    "ExecuteTime": {
     "end_time": "2024-10-29T21:02:29.507190Z",
     "start_time": "2024-10-29T21:02:29.500321Z"
    }
   },
   "cell_type": "code",
   "outputs": [
    {
     "name": "stdout",
     "output_type": "stream",
     "text": [
      "Column 'Age':\n",
      " 0    24\n",
      "1    27\n",
      "2    22\n",
      "Name: Age, dtype: int64\n",
      "\n",
      "Columns 'Name' and 'City':\n",
      "       Name           City\n",
      "0    Alice       New York\n",
      "1      Bob  San Francisco\n",
      "2  Charlie    Los Angeles\n",
      "\n",
      "Row selection by label:\n",
      " Name              Bob\n",
      "Age                27\n",
      "City    San Francisco\n",
      "Name: 1, dtype: object\n",
      "\n",
      "Row selection by integer position:\n",
      " Name              Bob\n",
      "Age                27\n",
      "City    San Francisco\n",
      "Name: 1, dtype: object\n",
      "\n",
      "Selecting rows where Age > 23:\n",
      "     Name  Age           City\n",
      "0  Alice   24       New York\n",
      "1    Bob   27  San Francisco\n"
     ]
    }
   ],
   "execution_count": 7,
   "source": [
    "# Selecting a column\n",
    "print(\"Column 'Age':\\n\", df['Age'])\n",
    "\n",
    "# Selecting multiple columns\n",
    "print(\"\\nColumns 'Name' and 'City':\\n\", df[['Name', 'City']])\n",
    "\n",
    "# Row selection by label\n",
    "print(\"\\nRow selection by label:\\n\", df.loc[1])\n",
    "\n",
    "# Row selection by integer position\n",
    "print(\"\\nRow selection by integer position:\\n\", df.iloc[1])\n",
    "\n",
    "# Fancy indexing\n",
    "print(\"\\nSelecting rows where Age > 23:\\n\", df[df['Age'] > 23])\n"
   ],
   "id": "b1cbb4bdc851b53d"
  },
  {
   "metadata": {},
   "cell_type": "markdown",
   "source": [
    "Extra explanation:\n",
    "loc - access based on **labels** (label-based)\n",
    "- loc works on the basis of **row and column labels**. We use it if we want to refer to rows or columns based on their names.\n",
    "- loc allows you to select data by specifying labels, that is, column names and row indexes.\n",
    "- It supports both single labels and ranges of labels.\n",
    "\n",
    "- `iloc` - access based on **numeric indexes** (integer-based)\n",
    "- `iloc` works on the basis of numeric **positions** in the DataFrame, i.e. numeric indexes.\n",
    "- It is useful when you want to select data, not looking at the names, but at their positions (e.g. 1st row, 2nd row, etc.).\n",
    "- `iloc` supports **numeric row and column indexes** (counting from zero)."
   ],
   "id": "32a088208c89f51d"
  },
  {
   "metadata": {},
   "cell_type": "code",
   "source": [
    "data_list = [\n",
    "    {'Name': 'Alice', 'Age': 24, 'City': 'New York'},\n",
    "    {'Name': 'Bob', 'Age': 27, 'City': 'San Francisco'},\n",
    "    {'Name': 'Charlie', 'Age': 22, 'City': 'Los Angeles'}\n",
    "]\n",
    "df_from_list = pd.DataFrame(data_list, index=[\"a\", \"b\", \"c\"])\n",
    "\n",
    "print(\"loc\")\n",
    "print(\"\\nRow selection by label:\\n\", df_from_list.loc[\"a\"])\n",
    "print(\"\\nRow selection by labels:\\n\", df_from_list.loc[\"a\":\"b\"])\n",
    "print(\"\\nRow selection by labels and columns:\\n\", df_from_list.loc[\"a\":\"b\", \"Name\":\"Age\"])\n",
    "\n",
    "print(\"\\n\\niloc\")\n",
    "print(\"\\nRow selection by index:\\n\", df_from_list.iloc[1])\n",
    "print(\"\\nRow selection by indexes:\\n\", df_from_list.iloc[1:3])\n",
    "print(\"\\nRow selection by indexes and columns:\\n\", df_from_list.iloc[1:3, 0:3])"
   ],
   "id": "1dbb96b7c3257df6",
   "outputs": [],
   "execution_count": null
  },
  {
   "metadata": {},
   "cell_type": "markdown",
   "source": "Pandas allows you to perform arithmetic and other operations on all table cells.",
   "id": "98d24ad3b350d223"
  },
  {
   "metadata": {
    "ExecuteTime": {
     "end_time": "2024-10-29T21:13:58.068190Z",
     "start_time": "2024-10-29T21:13:58.055196Z"
    }
   },
   "cell_type": "code",
   "source": [
    "# Adding a new column\n",
    "df['Salary'] = [50000, 60000, 52000]\n",
    "print(\"DataFrame with new column 'Salary':\\n\", df)\n",
    "\n",
    "# Modifying values in a column based on condition\n",
    "df.loc[df['City'] == 'New York', 'Salary'] += 5000\n",
    "print(\"\\nUpdated DataFrame with modified 'Salary':\\n\", df)\n",
    "\n",
    "# Operations on DataFrame columns\n",
    "df['Bonus'] = df['Salary'] * 0.1\n",
    "print(\"\\nDataFrame with calculated 'Bonus' column:\\n\", df)\n",
    "\n",
    "# Dropping a column\n",
    "df = df.drop(columns=['Bonus'])\n",
    "print(\"\\nDataFrame after dropping 'Bonus' column:\\n\", df)\n"
   ],
   "id": "8d02429b81430a2f",
   "outputs": [
    {
     "name": "stdout",
     "output_type": "stream",
     "text": [
      "DataFrame with new column 'Salary':\n",
      "       Name  Age           City  Salary\n",
      "0    Alice   24       New York   50000\n",
      "1      Bob   27  San Francisco   60000\n",
      "2  Charlie   22    Los Angeles   52000\n",
      "\n",
      "Updated DataFrame with modified 'Salary':\n",
      "       Name  Age           City  Salary\n",
      "0    Alice   24       New York   55000\n",
      "1      Bob   27  San Francisco   60000\n",
      "2  Charlie   22    Los Angeles   52000\n",
      "\n",
      "DataFrame with calculated 'Bonus' column:\n",
      "       Name  Age           City  Salary   Bonus\n",
      "0    Alice   24       New York   55000  5500.0\n",
      "1      Bob   27  San Francisco   60000  6000.0\n",
      "2  Charlie   22    Los Angeles   52000  5200.0\n",
      "\n",
      "DataFrame after dropping 'Bonus' column:\n",
      "       Name  Age           City  Salary\n",
      "0    Alice   24       New York   55000\n",
      "1      Bob   27  San Francisco   60000\n",
      "2  Charlie   22    Los Angeles   52000\n"
     ]
    }
   ],
   "execution_count": 28
  },
  {
   "metadata": {},
   "cell_type": "markdown",
   "source": "Pandas allows detecting, removing and filling in missing data.",
   "id": "6889d89975e739fd"
  },
  {
   "metadata": {
    "ExecuteTime": {
     "end_time": "2024-10-29T21:16:09.952598Z",
     "start_time": "2024-10-29T21:16:09.941783Z"
    }
   },
   "cell_type": "code",
   "source": [
    "# Adding NaN values for demonstration\n",
    "import numpy as np\n",
    "\n",
    "df_with_nan = df.copy()\n",
    "df_with_nan.loc[1, 'Salary'] = np.nan\n",
    "df_with_nan.loc[2, 'City'] = np.nan\n",
    "print(\"DataFrame with NaN values:\\n\", df_with_nan)\n",
    "\n",
    "# Detecting NaN values\n",
    "print(\"\\nDetecting NaN values:\\n\", df_with_nan.isna())\n",
    "\n",
    "# Dropping rows with NaN values\n",
    "print(\"\\nDataFrame after dropping rows with NaN:\\n\", df_with_nan.dropna())\n",
    "\n",
    "# Filling NaN values\n",
    "df_filled = df_with_nan.fillna({'Salary': df['Salary'].mean(), 'City': 'Unknown'})\n",
    "print(\"\\nDataFrame after filling NaN values:\\n\", df_filled)\n"
   ],
   "id": "b17956a1c268ad58",
   "outputs": [
    {
     "name": "stdout",
     "output_type": "stream",
     "text": [
      "DataFrame with NaN values:\n",
      "       Name  Age           City   Salary\n",
      "0    Alice   24       New York  55000.0\n",
      "1      Bob   27  San Francisco      NaN\n",
      "2  Charlie   22            NaN  52000.0\n",
      "\n",
      "Detecting NaN values:\n",
      "     Name    Age   City  Salary\n",
      "0  False  False  False   False\n",
      "1  False  False  False    True\n",
      "2  False  False   True   False\n",
      "\n",
      "DataFrame after dropping rows with NaN:\n",
      "     Name  Age      City   Salary\n",
      "0  Alice   24  New York  55000.0\n",
      "\n",
      "DataFrame after filling NaN values:\n",
      "       Name  Age           City        Salary\n",
      "0    Alice   24       New York  55000.000000\n",
      "1      Bob   27  San Francisco  55666.666667\n",
      "2  Charlie   22        Unknown  52000.000000\n"
     ]
    }
   ],
   "execution_count": 29
  },
  {
   "metadata": {},
   "cell_type": "markdown",
   "source": "Aggregations allow quick conclusions to be drawn by grouping data.",
   "id": "cf235197dd55995a"
  },
  {
   "metadata": {
    "ExecuteTime": {
     "end_time": "2024-10-29T21:17:08.580229Z",
     "start_time": "2024-10-29T21:17:08.571358Z"
    }
   },
   "cell_type": "code",
   "source": [
    "# Creating a DataFrame for aggregation\n",
    "data = {\n",
    "    'Category': ['A', 'A', 'B', 'B', 'C', 'C'],\n",
    "    'Values': [10, 15, 10, 20, 30, 25]\n",
    "}\n",
    "df_group = pd.DataFrame(data)\n",
    "\n",
    "# Aggregating data by category\n",
    "grouped = df_group.groupby('Category').sum()\n",
    "print(\"Sum of values by Category:\\n\", grouped)\n",
    "\n",
    "# Applying multiple aggregation functions\n",
    "grouped_multiple = df_group.groupby('Category').agg(['sum', 'mean'])\n",
    "print(\"\\nMultiple aggregations by Category:\\n\", grouped_multiple)\n"
   ],
   "id": "823b56803b7f4e9d",
   "outputs": [
    {
     "name": "stdout",
     "output_type": "stream",
     "text": [
      "Sum of values by Category:\n",
      "           Values\n",
      "Category        \n",
      "A             25\n",
      "B             30\n",
      "C             55\n",
      "\n",
      "Multiple aggregations by Category:\n",
      "          Values      \n",
      "            sum  mean\n",
      "Category             \n",
      "A            25  12.5\n",
      "B            30  15.0\n",
      "C            55  27.5\n"
     ]
    }
   ],
   "execution_count": 30
  },
  {
   "metadata": {},
   "cell_type": "markdown",
   "source": "Pandas allows you to combine data from different sources through methods such as `concat` and `merge`.",
   "id": "2160a612920ad732"
  },
  {
   "metadata": {
    "ExecuteTime": {
     "end_time": "2024-10-29T21:22:07.006644Z",
     "start_time": "2024-10-29T21:22:06.998011Z"
    }
   },
   "cell_type": "code",
   "source": [
    "# Concatenation along rows\n",
    "df1 = pd.DataFrame({'A': ['A0', 'A1', 'A2'], 'B': ['B0', 'B1', 'B2']})\n",
    "df2 = pd.DataFrame({'A': ['A3', 'A4', 'A5'], 'B': ['B3', 'B4', 'B5']})\n",
    "df_concat = pd.concat([df1, df2], ignore_index=True)\n",
    "print(\"Concatenated DataFrame:\\n\", df_concat)\n",
    "\n",
    "# Merge example\n",
    "left = pd.DataFrame({'Key': ['K0', 'K1', 'K2'], 'A': ['A0', 'A1', 'A2']})\n",
    "right = pd.DataFrame({'Key': ['K0', 'K1', 'K3'], 'B': ['B0', 'B1', 'B3']})\n",
    "df_merge = pd.merge(left, right, on='Key', how='outer')\n",
    "print(\"\\nMerged DataFrame:\\n\", df_merge)\n"
   ],
   "id": "8ad78ae2993c55cb",
   "outputs": [
    {
     "name": "stdout",
     "output_type": "stream",
     "text": [
      "Concatenated DataFrame:\n",
      "     A   B\n",
      "0  A0  B0\n",
      "1  A1  B1\n",
      "2  A2  B2\n",
      "3  A3  B3\n",
      "4  A4  B4\n",
      "5  A5  B5\n",
      "\n",
      "Merged DataFrame:\n",
      "   Key    A    B\n",
      "0  K0   A0   B0\n",
      "1  K1   A1   B1\n",
      "2  K2   A2  NaN\n",
      "3  K3  NaN   B3\n"
     ]
    }
   ],
   "execution_count": 31
  },
  {
   "metadata": {
    "ExecuteTime": {
     "end_time": "2024-10-29T21:26:54.879724Z",
     "start_time": "2024-10-29T21:26:54.874121Z"
    }
   },
   "cell_type": "code",
   "source": "titanic_df = pd.read_csv(\"../_example_data/titanic.csv\", delimiter=',')",
   "id": "2ab16d37e957a188",
   "outputs": [],
   "execution_count": 35
  },
  {
   "metadata": {},
   "cell_type": "markdown",
   "source": "Analyze basic statistics of a dataset using `describe()` and `info()`.",
   "id": "6e8be18b07559d0a"
  },
  {
   "metadata": {},
   "cell_type": "code",
   "source": [
    "# Basic information about the dataset\n",
    "print(\"Information about the Titanic dataset:\")\n",
    "titanic_df.info()\n",
    "\n",
    "# Basic statistics\n",
    "print(\"Basic numeric statistics of the Titanic dataset:\")\n",
    "titanic_df.describe()"
   ],
   "id": "646207ad6fc7707c",
   "outputs": [],
   "execution_count": null
  },
  {
   "metadata": {},
   "cell_type": "markdown",
   "source": "Data filtering allows passengers to be selected according to specific criteria, such as surviving passengers or those traveling first class.",
   "id": "bb54629bc393d95c"
  },
  {
   "metadata": {
    "ExecuteTime": {
     "end_time": "2024-10-29T21:29:08.097963Z",
     "start_time": "2024-10-29T21:29:08.087481Z"
    }
   },
   "cell_type": "code",
   "source": [
    "# A selection of passenger survivors\n",
    "survived_passengers = titanic_df[titanic_df['Survived'] == 1]\n",
    "print(\"Passengers who survived:\\n\", survived_passengers.head())\n",
    "\n",
    "# Choice of passengers traveling in first class\n",
    "first_class_passengers = titanic_df[titanic_df['Pclass'] == 1]\n",
    "print(\"\\nPassengers traveling in first class:\\n\", first_class_passengers.head())\n",
    "\n",
    "# A selection of female survivors under the age of 30\n",
    "young_female_survivors = titanic_df[(titanic_df['Sex'] == 'female') & \n",
    "                                    (titanic_df['Age'] < 30) & \n",
    "                                    (titanic_df['Survived'] == 1)]\n",
    "print(\"\\nYoung female survivors:\\n\", young_female_survivors.head())\n"
   ],
   "id": "5340e4204d1e4817",
   "outputs": [
    {
     "name": "stdout",
     "output_type": "stream",
     "text": [
      "Passengers who survived:\n",
      "     PassengerId  Survived  Pclass  \\\n",
      "1           893         1       3   \n",
      "4           896         1       3   \n",
      "6           898         1       3   \n",
      "8           900         1       3   \n",
      "12          904         1       1   \n",
      "\n",
      "                                             Name     Sex   Age  SibSp  Parch  \\\n",
      "1                Wilkes, Mrs. James (Ellen Needs)  female  47.0      1      0   \n",
      "4    Hirvonen, Mrs. Alexander (Helga E Lindqvist)  female  22.0      1      1   \n",
      "6                            Connolly, Miss. Kate  female  30.0      0      0   \n",
      "8       Abrahim, Mrs. Joseph (Sophie Halaut Easu)  female  18.0      0      0   \n",
      "12  Snyder, Mrs. John Pillsbury (Nelle Stevenson)  female  23.0      1      0   \n",
      "\n",
      "     Ticket     Fare Cabin Embarked  \n",
      "1    363272   7.0000   NaN        S  \n",
      "4   3101298  12.2875   NaN        S  \n",
      "6    330972   7.6292   NaN        Q  \n",
      "8      2657   7.2292   NaN        C  \n",
      "12    21228  82.2667   B45        S  \n",
      "\n",
      "Passengers traveling in first class:\n",
      "     PassengerId  Survived  Pclass  \\\n",
      "11          903         0       1   \n",
      "12          904         1       1   \n",
      "14          906         1       1   \n",
      "20          912         0       1   \n",
      "22          914         1       1   \n",
      "\n",
      "                                                 Name     Sex   Age  SibSp  \\\n",
      "11                         Jones, Mr. Charles Cresson    male  46.0      0   \n",
      "12      Snyder, Mrs. John Pillsbury (Nelle Stevenson)  female  23.0      1   \n",
      "14  Chaffee, Mrs. Herbert Fuller (Carrie Constance...  female  47.0      1   \n",
      "20                             Rothschild, Mr. Martin    male  55.0      1   \n",
      "22               Flegenheim, Mrs. Alfred (Antoinette)  female   NaN      0   \n",
      "\n",
      "    Parch       Ticket     Fare Cabin Embarked  \n",
      "11      0          694  26.0000   NaN        S  \n",
      "12      0        21228  82.2667   B45        S  \n",
      "14      0  W.E.P. 5734  61.1750   E31        S  \n",
      "20      0     PC 17603  59.4000   NaN        C  \n",
      "22      0     PC 17598  31.6833   NaN        S  \n",
      "\n",
      "Young female survivors:\n",
      "     PassengerId  Survived  Pclass  \\\n",
      "4           896         1       3   \n",
      "8           900         1       3   \n",
      "12          904         1       1   \n",
      "15          907         1       2   \n",
      "18          910         1       3   \n",
      "\n",
      "                                             Name     Sex   Age  SibSp  Parch  \\\n",
      "4    Hirvonen, Mrs. Alexander (Helga E Lindqvist)  female  22.0      1      1   \n",
      "8       Abrahim, Mrs. Joseph (Sophie Halaut Easu)  female  18.0      0      0   \n",
      "12  Snyder, Mrs. John Pillsbury (Nelle Stevenson)  female  23.0      1      0   \n",
      "15  del Carlo, Mrs. Sebastiano (Argenia Genovesi)  female  24.0      1      0   \n",
      "18                   Ilmakangas, Miss. Ida Livija  female  27.0      1      0   \n",
      "\n",
      "              Ticket     Fare Cabin Embarked  \n",
      "4            3101298  12.2875   NaN        S  \n",
      "8               2657   7.2292   NaN        C  \n",
      "12             21228  82.2667   B45        S  \n",
      "15     SC/PARIS 2167  27.7208   NaN        C  \n",
      "18  STON/O2. 3101270   7.9250   NaN        S  \n"
     ]
    }
   ],
   "execution_count": 37
  }
 ],
 "metadata": {
  "kernelspec": {
   "display_name": "Python 3",
   "language": "python",
   "name": "python3"
  },
  "language_info": {
   "codemirror_mode": {
    "name": "ipython",
    "version": 2
   },
   "file_extension": ".py",
   "mimetype": "text/x-python",
   "name": "python",
   "nbconvert_exporter": "python",
   "pygments_lexer": "ipython2",
   "version": "2.7.6"
  }
 },
 "nbformat": 4,
 "nbformat_minor": 5
}
